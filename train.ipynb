{
  "nbformat": 4,
  "nbformat_minor": 0,
  "metadata": {
    "colab": {
      "name": "train.ipynb",
      "provenance": [],
      "collapsed_sections": [
        "YUlcK7X8ONgn"
      ],
      "authorship_tag": "ABX9TyP+0bsHI2gRKqBlIfsvH9id",
      "include_colab_link": true
    },
    "kernelspec": {
      "name": "python3",
      "display_name": "Python 3"
    },
    "accelerator": "GPU"
  },
  "cells": [
    {
      "cell_type": "markdown",
      "metadata": {
        "id": "view-in-github",
        "colab_type": "text"
      },
      "source": [
        "<a href=\"https://colab.research.google.com/github/usseif97/MRNET-for-Knee-Diagnosis/blob/master/train.ipynb\" target=\"_parent\"><img src=\"https://colab.research.google.com/assets/colab-badge.svg\" alt=\"Open In Colab\"/></a>"
      ]
    },
    {
      "cell_type": "code",
      "metadata": {
        "id": "yxH7h9zeclKR",
        "colab_type": "code",
        "colab": {}
      },
      "source": [
        "import tensorflow as tf\n",
        "\n",
        "device_name = tf.test.gpu_device_name()\n",
        "if device_name != '/device:GPU:0':\n",
        "  print('GPU not found')\n",
        "  raise SystemError('GPU device not found')\n"
      ],
      "execution_count": 0,
      "outputs": []
    },
    {
      "cell_type": "code",
      "metadata": {
        "id": "pBOnK_3Scr9r",
        "colab_type": "code",
        "colab": {
          "base_uri": "https://localhost:8080/",
          "height": 34
        },
        "outputId": "7e7021c1-0859-4eb0-85c0-85f4ff26a08a"
      },
      "source": [
        "# importing the drive to get data files\n",
        "import tensorflow as tf\n",
        "import sys\n",
        "\n",
        "\n",
        "from google.colab import drive\n",
        "drive.mount('/content/drive', force_remount=True)"
      ],
      "execution_count": 2,
      "outputs": [
        {
          "output_type": "stream",
          "text": [
            "Mounted at /content/drive\n"
          ],
          "name": "stdout"
        }
      ]
    },
    {
      "cell_type": "code",
      "metadata": {
        "id": "TS_7pcUfdkFA",
        "colab_type": "code",
        "outputId": "60280f65-cc42-47ad-8be5-641bf32da95e",
        "colab": {
          "base_uri": "https://localhost:8080/",
          "height": 34
        }
      },
      "source": [
        "cd '/content/drive/My Drive/DataSet/MRNET data set/MRNet-v1.0'"
      ],
      "execution_count": 3,
      "outputs": [
        {
          "output_type": "stream",
          "text": [
            "/content/drive/My Drive/DataSet/MRNET data set/MRNet-v1.0\n"
          ],
          "name": "stdout"
        }
      ]
    },
    {
      "cell_type": "code",
      "metadata": {
        "id": "-somF5HX8pG_",
        "colab_type": "code",
        "colab": {}
      },
      "source": [
        "sys.path.append('/content/drive/My Drive/DataSet/MRNET data set/MRNet-v1.0')\n"
      ],
      "execution_count": 0,
      "outputs": []
    },
    {
      "cell_type": "code",
      "metadata": {
        "id": "S6O5TAVx2KIM",
        "colab_type": "code",
        "colab": {}
      },
      "source": [
        "import numpy as np\n",
        "from tensorflow import keras\n",
        "from tensorflow.keras import applications, layers, Input\n",
        "from tensorflow.keras.models import Sequential\n",
        "import keras.backend.tensorflow_backend as tfback\n",
        "import pandas as pd\n",
        "from matplotlib import pyplot as plt\n",
        "import pickle\n",
        "\n",
        "root_path = '/content/drive/My Drive/DataSet/MRNET data set/MRNet-v1.0'\n",
        "tf.keras.backend.set_floatx('float32')\n"
      ],
      "execution_count": 0,
      "outputs": []
    },
    {
      "cell_type": "code",
      "metadata": {
        "id": "nJMfIv9Hpk09",
        "colab_type": "code",
        "outputId": "f94565dc-a246-4e89-8436-0ced6cca7099",
        "colab": {
          "base_uri": "https://localhost:8080/",
          "height": 34
        }
      },
      "source": [
        "print(\"tf.version is\", tf.version)\n",
        "#print(\"tf.keras.version is:\", keras.version)\n",
        "\n",
        "def _get_available_gpus():\n",
        "  \"\"\"Get a list of available gpu devices (formatted as strings).\n",
        "  # Returns\n",
        "     A list of available GPU devices. \n",
        "  \"\"\"\n",
        "#global _LOCAL_DEVICES\n",
        "  if tfback._LOCAL_DEVICES is None:\n",
        "    devices = tf.config.list_logical_devices()\n",
        "    tfback._LOCAL_DEVICES = [x.name for x in devices]\n",
        "  return [x for x in tfback._LOCAL_DEVICES if 'device:gpu' in x.lower()]\n",
        "\n",
        "tfback._get_available_gpus = _get_available_gpus\n",
        "keras.backend.set_image_data_format('channels_first')\n"
      ],
      "execution_count": 95,
      "outputs": [
        {
          "output_type": "stream",
          "text": [
            "tf.version is <module 'tensorflow._api.v2.version' from '/usr/local/lib/python3.6/dist-packages/tensorflow/_api/v2/version/__init__.py'>\n"
          ],
          "name": "stdout"
        }
      ]
    },
    {
      "cell_type": "code",
      "metadata": {
        "id": "f3pxhLd9QPqw",
        "colab_type": "code",
        "colab": {}
      },
      "source": [
        "%run datagen.ipynb\n",
        "%run model.ipynb"
      ],
      "execution_count": 0,
      "outputs": []
    },
    {
      "cell_type": "code",
      "metadata": {
        "id": "1Lo4ZmhI0aB_",
        "colab_type": "code",
        "outputId": "b40e2e5f-d455-4475-fe31-6d324e552224",
        "colab": {
          "base_uri": "https://localhost:8080/",
          "height": 34
        }
      },
      "source": [
        "from timeit import default_timer as timer\n",
        "start = timer()\n",
        "end = timer()\n",
        "print(end - start) # Time in seconds, e.g. 5.38091952400282"
      ],
      "execution_count": 56,
      "outputs": [
        {
          "output_type": "stream",
          "text": [
            "1.4455999917117879e-05\n"
          ],
          "name": "stdout"
        }
      ]
    },
    {
      "cell_type": "code",
      "metadata": {
        "id": "psQ6CYOjkNZO",
        "colab_type": "code",
        "colab": {}
      },
      "source": [
        "#TRAIN VGG\n",
        "vgg_axial_abnormal = VGG16(root_path, 'axial', 'abnormal')\n",
        "start = timer()\n",
        "logs = vgg_axial_abnormal.train_model(save_model=True, X=X)\n",
        "end = timer()\n",
        "\n",
        "print(end - start)"
      ],
      "execution_count": 0,
      "outputs": []
    },
    {
      "cell_type": "code",
      "metadata": {
        "id": "sU9JXqaVpb7A",
        "colab_type": "code",
        "colab": {}
      },
      "source": [
        "#TRAIN resnet\n",
        "resnet_axial_abnormal = ResNet(root_path, 'axial', 'abnormal')\n",
        "start = timer()\n",
        "logs = resnet_axial_abnormal.train_model(save_model=True)\n",
        "end = timer()\n",
        "\n",
        "print(end - start)"
      ],
      "execution_count": 0,
      "outputs": []
    },
    {
      "cell_type": "code",
      "metadata": {
        "id": "vc64LdfOFUF8",
        "colab_type": "code",
        "colab": {}
      },
      "source": [
        "#TRAIN Inception\n",
        "resnet_axial_abnormal = InceptionV3(root_path, 'axial', 'abnormal')\n",
        "start = timer()\n",
        "logs = resnet_axial_abnormal.train_model(save_model=True)\n",
        "end = timer()\n",
        "\n",
        "print(end - start)"
      ],
      "execution_count": 0,
      "outputs": []
    },
    {
      "cell_type": "markdown",
      "metadata": {
        "id": "lr8436glV5mf",
        "colab_type": "text"
      },
      "source": [
        "Transfer Learning:"
      ]
    },
    {
      "cell_type": "code",
      "metadata": {
        "id": "yrMTShT4hEkX",
        "colab_type": "code",
        "colab": {}
      },
      "source": [
        "model_name = 'vgg16' #set the model\n",
        "case = 'abnormal' #set the case\n",
        "\n",
        "#Extracting Features:\n",
        "\n",
        "#Run Once\n",
        "#Extracting Features with transfer-learning to axial (Generator Mode)\n",
        "\n",
        "extract_axial = TransferLearningModel(root_path,'axial', case, model_name, task='train')\n",
        "start = timer()\n",
        "extract_axial.extract_features('train', save = True)\n",
        "end = timer()\n",
        "print(f'EXTRACTING AXIAL FINISHED in {end - start}s') #2411s\n",
        "\n",
        "#Extracting Features with transfer-learning to coronal\n",
        "\n",
        "extract_axial = TransferLearningModel(root_path,'coronal', case, model_name, task='train')\n",
        "start = timer()\n",
        "extract_axial.extract_features('train', save = True)\n",
        "end = timer()\n",
        "print(f'EXTRACTING CORONAL FINISHED in {end - start}s')\n",
        "\n",
        "#Run Once\n",
        "#Extracting Features with transfer-learning to sagittal (Generator Mode)\n",
        "\n",
        "start = timer()\n",
        "extract_sagittal = TransferLearningModel(root_path,'sagittal', case, model_name, task='train')\n",
        "extract_sagittal.extract_features('train', save = True)\n",
        "end = timer()\n",
        "print(f'EXTRACTING SAGITTAL FINISHED in {end - start}s') #5394s\n",
        "\n",
        "#Run Once\n",
        "#Extracting Features with transfer-learning to axial (Generator Mode) --TestData\n",
        "\n",
        "extract_axial_test = TransferLearningModel(root_path,'axial', case, model_name, task='valid')\n",
        "start = timer()\n",
        "extract_axial_test.extract_features('valid', save = True)\n",
        "end = timer()\n",
        "print(f'EXTRACTING AXIAL FINISHED in {end - start}s')\n",
        "\n",
        "#Run Once\n",
        "#Extracting Features with transfer-learning to coronal\n",
        "\n",
        "extract_coronal_test = TransferLearningModel(root_path,'coronal', case, model_name, task='valid')\n",
        "start = timer()\n",
        "extract_coronal_test.extract_features('valid', save = True)\n",
        "end = timer()\n",
        "print(f'EXTRACTING CORONAL FINISHED in {end - start}s')\n",
        "\n",
        "#Run Once\n",
        "#Extracting Features with transfer-learning to sagittal (Generator Mode)\n",
        "\n",
        "start = timer()\n",
        "extract_sagittal_test = TransferLearningModel(root_path,'sagittal', case, model_name, task='valid')\n",
        "extract_sagittal_test.extract_features('valid', save = True)\n",
        "end = timer()\n",
        "print(f'EXTRACTING SAGITTAL FINISHED in {end - start}s') #5394s\n"
      ],
      "execution_count": 0,
      "outputs": []
    },
    {
      "cell_type": "code",
      "metadata": {
        "id": "SruVMlxPl4ob",
        "colab_type": "code",
        "colab": {}
      },
      "source": [
        "#Train FC Layer with transfer-learning to axial\n",
        "\n",
        "train_fc_axial = TransferLearningModel(root_path,'axial', case, model_name, task='train')\n",
        "start = timer()\n",
        "history = train_fc_axial.train_fc(save_fc = False, memory = True)\n",
        "end = timer()\n",
        "train_fc_axial.plot_logs()\n",
        "print(f'TRAINING FC LAYER - AXIAL FINISHED in {end - start}s') #62s #692"
      ],
      "execution_count": 0,
      "outputs": []
    },
    {
      "cell_type": "code",
      "metadata": {
        "id": "1XwwAu45AdJb",
        "colab_type": "code",
        "colab": {}
      },
      "source": [
        "#Train FC Layer with transfer-learning to coronal\n",
        "\n",
        "train_fc_coronal = TransferLearningModel(root_path,'coronal', case, model_name, task='train')\n",
        "start = timer()\n",
        "history = train_fc_coronal.train_fc(save_fc = True, memory = True)\n",
        "end = timer()\n",
        "train_fc_axial.plot_logs()\n",
        "print(f'TRAINING FC LAYER - CORONAL FINISHED in {end - start}s') #"
      ],
      "execution_count": 0,
      "outputs": []
    },
    {
      "cell_type": "code",
      "metadata": {
        "id": "GAo6xBNlCxpz",
        "colab_type": "code",
        "colab": {}
      },
      "source": [
        "#Train FC Layer with transfer-learning to sagittal\n",
        "\n",
        "train_fc_sagittal = TransferLearningModel(root_path,'sagittal', case, model_name, task='train')\n",
        "start = timer()\n",
        "history = train_fc_sagittal.train_fc(save_fc = True, memory = True)\n",
        "end = timer()\n",
        "train_fc_axial.plot_logs()\n",
        "print(f'TRAINING FC LAYER - SAGITTAL FINISHED in {end - start}s') #"
      ],
      "execution_count": 0,
      "outputs": []
    },
    {
      "cell_type": "code",
      "metadata": {
        "id": "XZoKV48mbJ7J",
        "colab_type": "code",
        "colab": {}
      },
      "source": [
        "#Evaluate One View with Transfer Learning\n",
        "model_name = 'vgg16'\n",
        "features_dim = 512\n",
        "view = 'axial'\n",
        "case = 'abnormal'\n",
        "\n",
        "records = pd.read_csv(root_path + f\"/valid-{case}.csv\", header=None, names=['id', 'label'])\n",
        "Y = records['label'].to_numpy()\n",
        "\n",
        "X = np.empty((0, features_dim))\n",
        "\n",
        "for i in range(1130, 1250):\n",
        "  index = '0' * (4 - len(str(i))) + str(i)\n",
        "  path = root_path + f\"/valid/{view}/{model_name}/{index}.npy\"\n",
        "  print('loading', index, 'features')\n",
        "  x = np.load(path).reshape((1, features_dim))\n",
        "  X = np.concatenate((X, x), axis = 0)\n",
        "\n",
        "train_fc_axial.fc.evaluate(X, Y)"
      ],
      "execution_count": 0,
      "outputs": []
    },
    {
      "cell_type": "code",
      "metadata": {
        "id": "ZSOGnb1xEmfk",
        "colab_type": "code",
        "colab": {}
      },
      "source": [
        "#Prediction Layer\n",
        "\n",
        "axial_predict = TransferLearningModel(root_path,'axial', case, model_name, task='train')\n",
        "start = timer()\n",
        "axial_predictions = axial_predict.predict_fc()\n",
        "end = timer()\n",
        "print(f'PREDICTING FC LAYER - AXIAL FINISHED in {end - start}s')\n",
        "\n",
        "coronal_predict = TransferLearningModel(root_path,'coronal', case, model_name, task='train')\n",
        "start = timer()\n",
        "coronal_predictions = coronal_predict.predict_fc()\n",
        "end = timer()\n",
        "print(f'PREDICTING FC LAYER - CORONAL FINISHED in {end - start}s')\n",
        "\n",
        "sagittal_predict = TransferLearningModel(root_path,'sagittal', case, model_name, task='train')\n",
        "start = timer()\n",
        "sagittal_predictions = sagittal_predict.predict_fc()\n",
        "end = timer()\n",
        "print(f'PREDICTING FC LAYER - SAGITTAL FINISHED in {end - start}s')\n",
        "\n",
        "early_stopping = keras.callbacks.EarlyStopping(monitor='val_loss',\n",
        "  min_delta=0,\n",
        "  patience=5,\n",
        "  verbose=0, mode='auto',\n",
        "  restore_best_weights=True\n",
        ")\n",
        "    \n",
        "reduce_lr = keras.callbacks.ReduceLROnPlateau(\n",
        "  monitor='val_loss', factor=0.1, patience=3, verbose=0, mode='auto',\n",
        "  min_delta=0, cooldown=0, min_lr=1e-5\n",
        ")\n",
        "inputs = keras.Input((3,))\n",
        "outputs = keras.layers.Dense(1, activation='sigmoid')(inputs)\n",
        "classifier_model = keras.Model(inputs, outputs)\n",
        "classifier_model.compile(\n",
        "  optimizer=keras.optimizers.Adam(1e-4), loss='binary_crossentropy', metrics=[keras.metrics.AUC()]\n",
        "  )\n",
        "\n",
        "Xp = np.concatenate((axial_predictions, coronal_predictions, sagittal_predictions), axis=1) #this is the input to sigmoid function\n",
        "records = pd.read_csv(root_path + f\"/train-{case}.csv\", header=None, names=['id', 'label'])\n",
        "Y = records['label'].to_numpy()\n",
        "\n",
        "\n",
        "history = classifier_model.fit(\n",
        "  x=Xp, y=Y, batch_size=1, epochs=100, verbose=2, callbacks=[reduce_lr, early_stopping],\n",
        "  validation_split=0.1, validation_data=None, shuffle=True,\n",
        ")\n",
        "train_classifier_logs = history.history\n",
        "\n",
        "plot_logs(train_classifier_logs)\n",
        "\n",
        "classifier_model.save(root_path + f'/models/{model_name}-auc-classifier-abnormal.h5')\n",
        "with open(root_path + f'/models/{model_name-auc-classifier-abnormal-history', 'wb') as file_pi:\n",
        "      pickle.dump(train_classifier_logs, file_pi)"
      ],
      "execution_count": 0,
      "outputs": []
    },
    {
      "cell_type": "code",
      "metadata": {
        "id": "ZhzTp-LRWlVv",
        "colab_type": "code",
        "colab": {}
      },
      "source": [
        "#Evaluate Prediction Layer\n",
        "\n",
        "classifier_model = keras.models.load_model(root_path + f'/models/{model_name}-auc-classifier-abnormal.h5')\n",
        "\n",
        "axial_predict = TransferLearningModel(root_path,'axial', case, model_name, task='valid')\n",
        "axial_predict.fc.summary()\n",
        "start = timer()\n",
        "axial_predictions = axial_predict.predict_fc()\n",
        "end = timer()\n",
        "print(f'PREDICTING FC LAYER - AXIAL FINISHED in {end - start}s')\n",
        "\n",
        "coronal_predict = TransferLearningModel(root_path,'coronal', case, model_name, task='valid')\n",
        "coronal_predict.fc.summary()\n",
        "start = timer()\n",
        "coronal_predictions = coronal_predict.predict_fc()\n",
        "end = timer()\n",
        "print(f'PREDICTING FC LAYER - CORONAL FINISHED in {end - start}s')\n",
        "\n",
        "sagittal_predict = TransferLearningModel(root_path,'sagittal', case, model_name, task='valid')\n",
        "sagittal_predict.fc.summary()\n",
        "start = timer()\n",
        "sagittal_predictions = sagittal_predict.predict_fc()\n",
        "end = timer()\n",
        "print(f'PREDICTING FC LAYER - SAGITTAL in {end - start}s')\n",
        "\n",
        "Xp_val = np.concatenate((axial_predictions, coronal_predictions, sagittal_predictions), axis=1) #this is the input to sigmoid function\n",
        "records = pd.read_csv(root_path + f\"/valid-abnormal.csv\", header=None, names=['id', 'label'])\n",
        "Y_val = records['label'].to_numpy()"
      ],
      "execution_count": 0,
      "outputs": []
    },
    {
      "cell_type": "code",
      "metadata": {
        "id": "iq7PRcbHG_zB",
        "colab_type": "code",
        "outputId": "04c9936b-e86c-4193-f969-9d1081f22801",
        "colab": {
          "base_uri": "https://localhost:8080/",
          "height": 34
        }
      },
      "source": [
        "history_eval = classifier_model.evaluate(\n",
        "    x=Xp_val, y=Y_val, verbose=2\n",
        ")"
      ],
      "execution_count": 0,
      "outputs": [
        {
          "output_type": "stream",
          "text": [
            "4/4 - 0s - loss: 0.4230 - auc_24: 0.9229\n"
          ],
          "name": "stdout"
        }
      ]
    },
    {
      "cell_type": "code",
      "metadata": {
        "id": "naXMPnmnXMkn",
        "colab_type": "code",
        "colab": {}
      },
      "source": [
        ""
      ],
      "execution_count": 0,
      "outputs": []
    },
    {
      "cell_type": "markdown",
      "metadata": {
        "id": "2micV474Qpvw",
        "colab_type": "text"
      },
      "source": [
        "ResNet Transfer Learning:"
      ]
    },
    {
      "cell_type": "code",
      "metadata": {
        "id": "5qHMWPVxQsyN",
        "colab_type": "code",
        "colab": {}
      },
      "source": [
        ""
      ],
      "execution_count": 0,
      "outputs": []
    },
    {
      "cell_type": "markdown",
      "metadata": {
        "id": "YUlcK7X8ONgn",
        "colab_type": "text"
      },
      "source": [
        "## **The next is rubbish:**"
      ]
    },
    {
      "cell_type": "code",
      "metadata": {
        "id": "PoR2uT8RLAeY",
        "colab_type": "code",
        "colab": {}
      },
      "source": [
        "def load_features(root_dir = '/content/drive/My Drive/DataSet/MRNET data set/MRNet-v1.0', set = 'train', view = 'axial', model = 'VGG16'):\n",
        "  X = np.empty((0, 512))\n",
        "  start = 0\n",
        "  end = 10 ######\n",
        "  if set == 'train':\n",
        "    pass\n",
        "  else:\n",
        "    start = 1130\n",
        "    end = 1250\n",
        "  for i in range(start, end):\n",
        "    index = '0' * (4 - len(str(i))) + str(i)\n",
        "    path = root_dir + f\"/{set}/{view}/{model}/{index}.npy\"\n",
        "    print('loading', index)\n",
        "    x = np.load(path).reshape((1, 512))\n",
        "    X = np.concatenate((X, x), axis = 0)\n",
        "\n",
        "  return X\n"
      ],
      "execution_count": 0,
      "outputs": []
    },
    {
      "cell_type": "code",
      "metadata": {
        "id": "EEtXyEzlJUl-",
        "colab_type": "code",
        "colab": {}
      },
      "source": [
        "def load_labels(root_dir = '/content/drive/My Drive/DataSet/MRNET data set/MRNet-v1.0', set = 'train', case = 'abnormal'):\n",
        "  records = pd.read_csv(root_dir + f\"/train-{case}.csv\", header=None, names=['id', 'label'])\n",
        "  return records['label'].to_numpy()\n"
      ],
      "execution_count": 0,
      "outputs": []
    },
    {
      "cell_type": "code",
      "metadata": {
        "id": "k45ZvkRZt7Xp",
        "colab_type": "code",
        "colab": {}
      },
      "source": [
        "def load_input():\n",
        "  pass"
      ],
      "execution_count": 0,
      "outputs": []
    },
    {
      "cell_type": "code",
      "metadata": {
        "id": "8LJSrH-_jn9c",
        "colab_type": "code",
        "outputId": "d8eb57e6-eed8-4be1-9cfe-b773e0ee13e5",
        "colab": {
          "base_uri": "https://localhost:8080/",
          "height": 34
        }
      },
      "source": [
        "X = {}\n",
        "for i in range(1):\n",
        "  X[i] = load_scan(view='axial', num = i)\n"
      ],
      "execution_count": 0,
      "outputs": [
        {
          "output_type": "stream",
          "text": [
            "loading 0000\n"
          ],
          "name": "stdout"
        }
      ]
    },
    {
      "cell_type": "code",
      "metadata": {
        "id": "vXL_VY-KyGDr",
        "colab_type": "code",
        "colab": {}
      },
      "source": [
        "def save_example(root_dir, view, num, features, model, set):\n",
        "  root_dir = '/content/drive/My Drive/DataSet/MRNET data set/MRNet-v1.0'\n",
        "  index = '0' * (4 - len(str(num))) + str(num)\n",
        "  np.save(open(f\"{root_dir}/{set}/{view}/{model}/{index}.npy\", 'wb'), features)"
      ],
      "execution_count": 0,
      "outputs": []
    },
    {
      "cell_type": "code",
      "metadata": {
        "id": "qYgsT_XI6vYa",
        "colab_type": "code",
        "colab": {}
      },
      "source": [
        ""
      ],
      "execution_count": 0,
      "outputs": []
    },
    {
      "cell_type": "code",
      "metadata": {
        "id": "qWZO1I3fncAw",
        "colab_type": "code",
        "outputId": "891bccbf-ac47-42ce-fd86-b151d0b2b237",
        "colab": {
          "base_uri": "https://localhost:8080/",
          "height": 34
        }
      },
      "source": [
        "\n",
        "features = {}\n",
        "for i in range(1):\n",
        "  print(i)\n",
        "  x = X[i]\n",
        "  x = applications.vgg16.preprocess_input(x)\n",
        "  features[i] = vgg_fx.predict(\n",
        "      x, batch_size=tf.constant(x.shape[0]), verbose=0,\n",
        "  )\n",
        "  "
      ],
      "execution_count": 0,
      "outputs": [
        {
          "output_type": "stream",
          "text": [
            "0\n"
          ],
          "name": "stdout"
        }
      ]
    },
    {
      "cell_type": "code",
      "metadata": {
        "id": "bfRri6DJ5qJc",
        "colab_type": "code",
        "colab": {}
      },
      "source": [
        "for example_num, example_features in features.items():\n",
        "  print('saving', example_num)\n",
        "  save_example('', 'axial', example_num, example_features, 'VGG16', 'train')"
      ],
      "execution_count": 0,
      "outputs": []
    },
    {
      "cell_type": "code",
      "metadata": {
        "id": "7LTggPB97NL0",
        "colab_type": "code",
        "colab": {}
      },
      "source": [
        "#classifier\n",
        "#inputs = keras.Input(shape=(512))\n",
        "#outputs = layers.Dense(1, activation='relu')(inputs, training=False)\n",
        "#vgg_fc = keras.Model(inputs, outputs)\n",
        "#vgg_fc.summary()\n",
        "#vgg_fx.compile()\n",
        "vgg_fc = Sequential()\n",
        "vgg_fc.add(Input(shape = (512,)))\n",
        "vgg_fc.add(layers.Dense(1, activation='relu'))\n",
        "vgg_fc.summary()\n",
        "vgg_fc.compile(\n",
        "    optimizer=keras.optimizers.Adam(1e-5), loss='binary_crossentropy', metrics=['accuracy']\n",
        ")\n",
        "\n",
        "early_stopping = keras.callbacks.EarlyStopping(monitor='val_loss',\n",
        "                              min_delta=0,\n",
        "                              patience=20,\n",
        "                              verbose=0, mode='auto',\n",
        "                              restore_best_weights=True)\n",
        "\n",
        "Y_train = load_labels(case='abnormal')\n",
        "\n",
        "X_train = load_features()\n",
        "vgg_fc.fit(\n",
        "    x=X_train, y=Y_train[:50], batch_size=1, epochs=10, verbose=2, callbacks=[early_stopping],\n",
        "    validation_split=0.0, validation_data=None, shuffle=True,\n",
        ")\n",
        "\n",
        "\n",
        "#callbacks=[early_stopping],"
      ],
      "execution_count": 0,
      "outputs": []
    },
    {
      "cell_type": "code",
      "metadata": {
        "id": "FOmi6hSCe198",
        "colab_type": "code",
        "colab": {}
      },
      "source": [
        "#Train with custom data generator\n",
        "\n",
        "vgg_fc = Sequential()\n",
        "vgg_fc.add(Input(shape = (512,)))\n",
        "vgg_fc.add(layers.Dense(1, activation='relu'))\n",
        "vgg_fc.summary()\n",
        "vgg_fc.compile(\n",
        "    optimizer=keras.optimizers.Adam(1e-5), loss='binary_crossentropy', metrics=['accuracy']\n",
        ")\n",
        "\n",
        "early_stopping = keras.callbacks.EarlyStopping(monitor='loss',\n",
        "                              min_delta=0,\n",
        "                              patience=20,\n",
        "                              verbose=0, mode='auto',\n",
        "                              restore_best_weights=True)\n",
        "\n",
        "params = {'shape': (512),\n",
        "          'batch_size': 1,\n",
        "          'shuffle': False,\n",
        "          'extractor': 'VGG16'}\n",
        "\n",
        "training_generator = MRNetDataGenerator(**params)\n",
        "\n",
        "vgg_fc.fit(\n",
        "    training_generator, epochs=50, verbose=2, callbacks=[early_stopping],\n",
        "    use_multiprocessing = False\n",
        ")"
      ],
      "execution_count": 0,
      "outputs": []
    },
    {
      "cell_type": "code",
      "metadata": {
        "id": "f4fFDbKeO-sV",
        "colab_type": "code",
        "colab": {}
      },
      "source": [
        "root_dir = '/content/drive/My Drive/DataSet/MRNET data set/MRNet-v1.0'\n",
        "vgg_fc.save(root_dir + '/vgg16-fc-abnormal.h5')"
      ],
      "execution_count": 0,
      "outputs": []
    },
    {
      "cell_type": "code",
      "metadata": {
        "id": "6sXPamGqNll6",
        "colab_type": "code",
        "colab": {}
      },
      "source": [
        "#classifier\n",
        "vgg_full = Sequential()\n",
        "vgg_full.add(vgg_fx)\n",
        "vgg_full.add(vgg_fc)\n",
        "vgg_full.summary()\n",
        "vgg_full.compile(\n",
        "    optimizer=keras.optimizers.Adam(1e-5), loss='binary_crossentropy', metrics=['accuracy']\n",
        ")"
      ],
      "execution_count": 0,
      "outputs": []
    },
    {
      "cell_type": "code",
      "metadata": {
        "id": "u-hHfmPnUulD",
        "colab_type": "code",
        "colab": {}
      },
      "source": [
        "inputs = keras.Input(shape=(256,256,3))\n",
        "x = vgg_fx(inputs\n",
        "outputs = vgg_fc(x)\n",
        "vgg_full = keras.Model(inputs, outputs)\n",
        "vgg_full.summary()\n",
        "vgg_full.compile()\n"
      ],
      "execution_count": 0,
      "outputs": []
    },
    {
      "cell_type": "code",
      "metadata": {
        "id": "fEZlqyK2MCJf",
        "colab_type": "code",
        "colab": {}
      },
      "source": [
        "X = {}\n",
        "for i in range(1130, 1250):\n",
        "  X[i] = load_scan(set = 'valid', view='axial', num = i)\n"
      ],
      "execution_count": 0,
      "outputs": []
    },
    {
      "cell_type": "code",
      "metadata": {
        "id": "TsLgE_NiOlge",
        "colab_type": "code",
        "colab": {}
      },
      "source": [
        "features = {}\n",
        "for i in range(1130, 1250):\n",
        "  print(i)\n",
        "  x = X[i]\n",
        "  applications.vgg16.preprocess_input(x)\n",
        "  features[i] = vgg_fx.predict(\n",
        "      x, batch_size=tf.constant(x.shape[0]), verbose=0,\n",
        "  )\n",
        "for example_num, example_features in features.items():\n",
        "  print('saving', example_num)\n",
        "  save_example('', 'axial', example_num, example_features, 'VGG16', 'valid')"
      ],
      "execution_count": 0,
      "outputs": []
    },
    {
      "cell_type": "code",
      "metadata": {
        "id": "YqMHEIiVOsXu",
        "colab_type": "code",
        "colab": {}
      },
      "source": [
        "Y_valid = load_labels(case='abnormal', set = 'valid')\n",
        "\n",
        "X_valid = load_features(set='valid')\n",
        "vgg_fc.evaluate(\n",
        "    x=X_train, y=Y_train, batch_size=1, verbose=2)"
      ],
      "execution_count": 0,
      "outputs": []
    },
    {
      "cell_type": "code",
      "metadata": {
        "id": "aPOCDtBIRtOG",
        "colab_type": "code",
        "colab": {}
      },
      "source": [
        "inputs = keras.Input(shape=(None,256, 256, 3))\n",
        "x = layers.Flatten()(inputs)\n",
        "mo = keras.Model(inputs, x)\n",
        "mo.summary()\n",
        "mo.compile()\n",
        "\n",
        "arrr = np.random.rand(1, 10,256,256,3)\n",
        "\n",
        "moo = mo(arrr)\n",
        "moo.shape"
      ],
      "execution_count": 0,
      "outputs": []
    },
    {
      "cell_type": "code",
      "metadata": {
        "id": "zJupd2uy_zM7",
        "colab_type": "code",
        "outputId": "b568d07c-0ea4-477a-ced0-76b8f4a9fdc3",
        "colab": {
          "base_uri": "https://localhost:8080/",
          "height": 286
        }
      },
      "source": [
        "tei = keras.Input(shape=(3, 256,256))\n",
        "te = applications.vgg16.preprocess_input(tei)\n",
        "moo = keras.Model(tei,te)\n",
        "moo.summary()\n",
        "moo.compile()\n",
        "inn = np.ones((2,3,256,256))\n",
        "\n",
        "for j, i in enumerate(inn):\n",
        "  print(i.shape, j)"
      ],
      "execution_count": 0,
      "outputs": [
        {
          "output_type": "stream",
          "text": [
            "Model: \"model_73\"\n",
            "_________________________________________________________________\n",
            "Layer (type)                 Output Shape              Param #   \n",
            "=================================================================\n",
            "input_109 (InputLayer)       [(None, 3, 256, 256)]     0         \n",
            "_________________________________________________________________\n",
            "tf_op_layer_strided_slice_13 [(None, 3, 256, 256)]     0         \n",
            "_________________________________________________________________\n",
            "tf_op_layer_BiasAdd_13 (Tens [(None, 3, 256, 256)]     0         \n",
            "=================================================================\n",
            "Total params: 0\n",
            "Trainable params: 0\n",
            "Non-trainable params: 0\n",
            "_________________________________________________________________\n",
            "(3, 256, 256) 0\n",
            "(3, 256, 256) 1\n"
          ],
          "name": "stdout"
        }
      ]
    },
    {
      "cell_type": "code",
      "metadata": {
        "id": "XRxp-8huel4b",
        "colab_type": "code",
        "colab": {}
      },
      "source": [
        ""
      ],
      "execution_count": 0,
      "outputs": []
    },
    {
      "cell_type": "code",
      "metadata": {
        "id": "_iacnK5V3HKE",
        "colab_type": "code",
        "colab": {}
      },
      "source": [
        "def load_scan(task, view, index, root_path = root_path):\n",
        "    index_extended = '0' * (4 - len(str(index))) + str(index)\n",
        "    path = root_path + f\"/{task}/{view}/{index_extended}.npy\"\n",
        "    print(f'loading example: {index}')\n",
        "    x = np.load(path)\n",
        "    x = np.stack((x,)*3, axis=1)\n",
        "    return x\n",
        "\n",
        "def load_view(task, view, start, end, root_path = root_path):\n",
        "  data_size = end - start\n",
        "  X = {}\n",
        "  for i, index in enumerate(range(start, end)):\n",
        "    X[i] = load_scan(task, view, index, root_path)\n",
        "  return X"
      ],
      "execution_count": 0,
      "outputs": []
    },
    {
      "cell_type": "code",
      "metadata": {
        "id": "l3pKhXWqoaxF",
        "colab_type": "code",
        "colab": {}
      },
      "source": [
        " def save_example2(num, features, model):\n",
        "    index = '0' * (4 - len(str(num))) + str(num)\n",
        "    np.save(open(f\"{root_path}/{model.task}/{model.view}/VGG16/{index}.npy\", 'wb'), features)\n",
        "\n",
        "for example_num, example_features in model.features.items():\n",
        "  print('saving', example_num)\n",
        "  save_example2(example_num, example_features, model)\n",
        "  "
      ],
      "execution_count": 0,
      "outputs": []
    }
  ]
}