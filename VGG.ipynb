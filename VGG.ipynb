{
  "nbformat": 4,
  "nbformat_minor": 0,
  "metadata": {
    "colab": {
      "name": "VGG.ipynb",
      "provenance": [],
      "collapsed_sections": [],
      "authorship_tag": "ABX9TyM3lz0ZdnzlAyNad5H0nfzH",
      "include_colab_link": true
    },
    "kernelspec": {
      "name": "python3",
      "display_name": "Python 3"
    },
    "accelerator": "GPU"
  },
  "cells": [
    {
      "cell_type": "markdown",
      "metadata": {
        "id": "view-in-github",
        "colab_type": "text"
      },
      "source": [
        "<a href=\"https://colab.research.google.com/github/usseif97/MRNET-for-Knee-Diagnosis/blob/master/VGG.ipynb\" target=\"_parent\"><img src=\"https://colab.research.google.com/assets/colab-badge.svg\" alt=\"Open In Colab\"/></a>"
      ]
    },
    {
      "cell_type": "markdown",
      "metadata": {
        "id": "L6OjQU-bNEDW",
        "colab_type": "text"
      },
      "source": [
        "### **Library Imports**"
      ]
    },
    {
      "cell_type": "code",
      "metadata": {
        "id": "vX_ElcnPKkC7",
        "colab_type": "code",
        "colab": {}
      },
      "source": [
        "import tensorflow as tf\n",
        "from tensorflow import keras\n",
        "import numpy as np\n",
        "import pandas as pd\n",
        "%matplotlib inline\n",
        "import matplotlib as npl\n",
        "import matplotlib.pyplot as plt\n",
        "from tensorflow.keras import layers\n",
        "from tensorflow.keras import models\n",
        "from tensorflow.keras import optimizers\n",
        "from keras.utils import np_utils\n",
        "from keras.layers.normalization import BatchNormalization\n",
        "\n",
        "from keras.models import Sequential\n",
        "from keras.layers import Dense\n",
        "from keras.layers import Dropout\n",
        "from keras.layers import Flatten\n",
        "from keras.constraints import maxnorm\n",
        "from keras.optimizers import SGD\n",
        "from keras.layers import Activation\n",
        "from keras.layers.convolutional import Conv2D, MaxPooling2D, ZeroPadding2D\n",
        "from keras.layers.normalization import BatchNormalization\n",
        "from keras.initializers import glorot_normal\n",
        "from keras.utils import np_utils\n",
        "\n",
        "\n"
      ],
      "execution_count": 0,
      "outputs": []
    },
    {
      "cell_type": "markdown",
      "metadata": {
        "id": "Y4TJ4twYNhXr",
        "colab_type": "text"
      },
      "source": [
        "### **Import DataSet**"
      ]
    },
    {
      "cell_type": "code",
      "metadata": {
        "id": "QKAH8tfcLjFc",
        "colab_type": "code",
        "colab": {}
      },
      "source": [
        "from keras.datasets import cifar10\n"
      ],
      "execution_count": 0,
      "outputs": []
    },
    {
      "cell_type": "markdown",
      "metadata": {
        "id": "D8oYxNGZNxu1",
        "colab_type": "text"
      },
      "source": [
        "## **Get DataSet**"
      ]
    },
    {
      "cell_type": "code",
      "metadata": {
        "id": "n1OpN8awNpFf",
        "colab_type": "code",
        "colab": {
          "base_uri": "https://localhost:8080/",
          "height": 101
        },
        "outputId": "7004f887-d884-4df1-cbde-c7943d377de5"
      },
      "source": [
        "(x_train, y_train), (x_test, y_test) = cifar10.load_data() # x_train - training data(images), y_train - labels(digits)\n",
        "print('x_train shape:', x_train.shape)\n",
        "print(x_train.shape[0], 'train samples')\n",
        "print(x_test.shape[0], 'test samples')"
      ],
      "execution_count": 4,
      "outputs": [
        {
          "output_type": "stream",
          "text": [
            "Downloading data from https://www.cs.toronto.edu/~kriz/cifar-10-python.tar.gz\n",
            "170500096/170498071 [==============================] - 13s 0us/step\n",
            "x_train shape: (50000, 32, 32, 3)\n",
            "50000 train samples\n",
            "10000 test samples\n"
          ],
          "name": "stdout"
        }
      ]
    },
    {
      "cell_type": "markdown",
      "metadata": {
        "id": "RcivVL9qS8O3",
        "colab_type": "text"
      },
      "source": [
        "\n",
        "##  Define Variables"
      ]
    },
    {
      "cell_type": "code",
      "metadata": {
        "id": "2c7FvOOqS51i",
        "colab_type": "code",
        "colab": {}
      },
      "source": [
        "num_classes = 10\n",
        "BATCH_NORM = False\n"
      ],
      "execution_count": 0,
      "outputs": []
    },
    {
      "cell_type": "markdown",
      "metadata": {
        "id": "EyMIUp3OOXBw",
        "colab_type": "text"
      },
      "source": [
        "## **Preprocessing and split Data into test and validation**"
      ]
    },
    {
      "cell_type": "code",
      "metadata": {
        "id": "4R1_AA1FOWrG",
        "colab_type": "code",
        "colab": {}
      },
      "source": [
        "\n",
        "y_train = np_utils.to_categorical(y_train, 10)\n",
        "y_test = np_utils.to_categorical(y_test, 10)\n",
        "x_train = x_train.astype('float32')\n",
        "x_test = x_test.astype('float32')\n",
        "x_train  /= 255\n",
        "x_test /= 255"
      ],
      "execution_count": 0,
      "outputs": []
    },
    {
      "cell_type": "markdown",
      "metadata": {
        "id": "q20oJf4PO3lA",
        "colab_type": "text"
      },
      "source": [
        "## **Define Model**"
      ]
    },
    {
      "cell_type": "code",
      "metadata": {
        "id": "eTj0FqpoO3WD",
        "colab_type": "code",
        "colab": {}
      },
      "source": [
        "model = Sequential()\n",
        "\n",
        "model.add(Conv2D(64, (3, 3), padding='same', input_shape=x_train.shape[1:], name='block1_conv1'))\n",
        "model.add(BatchNormalization()) if BATCH_NORM else None\n",
        "model.add(Activation('relu'))\n",
        "\n",
        "model.add(Conv2D(64, (3, 3), padding='same', name='block1_conv2'))\n",
        "model.add(BatchNormalization()) if BATCH_NORM else None\n",
        "model.add(Activation('relu'))\n",
        "\n",
        "model.add(MaxPooling2D((2, 2), strides=(2, 2), name='block1_pool'))\n",
        "\n",
        "model.add(Conv2D(128, (3, 3), padding='same', name='block2_conv1'))\n",
        "model.add(BatchNormalization()) if BATCH_NORM else None\n",
        "model.add(Activation('relu'))\n",
        "\n",
        "model.add(Conv2D(128, (3, 3), padding='same', name='block2_conv2'))\n",
        "model.add(BatchNormalization()) if BATCH_NORM else None\n",
        "model.add(Activation('relu'))\n",
        "model.add(MaxPooling2D((2, 2), strides=(2, 2), name='block2_pool'))\n",
        "\n",
        "model.add(Conv2D(256, (3, 3), padding='same', name='block3_conv1'))\n",
        "model.add(BatchNormalization()) if BATCH_NORM else None\n",
        "model.add(Activation('relu'))\n",
        "\n",
        "model.add(Conv2D(256, (3, 3), padding='same', name='block3_conv2'))\n",
        "model.add(BatchNormalization()) if BATCH_NORM else None\n",
        "model.add(Activation('relu'))\n",
        "\n",
        "model.add(Conv2D(256, (3, 3), padding='same', name='block3_conv3'))\n",
        "model.add(BatchNormalization()) if BATCH_NORM else None\n",
        "model.add(Activation('relu'))\n",
        "\n",
        "model.add(Conv2D(256, (3, 3), padding='same', name='block3_conv4'))\n",
        "model.add(BatchNormalization()) if BATCH_NORM else None\n",
        "model.add(Activation('relu'))\n",
        "\n",
        "model.add(MaxPooling2D((2, 2), strides=(2, 2), name='block3_pool'))\n",
        "\n",
        "model.add(Conv2D(512, (3, 3), padding='same', name='block4_conv1'))\n",
        "model.add(BatchNormalization()) if BATCH_NORM else None\n",
        "model.add(Activation('relu'))\n",
        "\n",
        "model.add(Conv2D(512, (3, 3), padding='same', name='block4_conv2'))\n",
        "model.add(BatchNormalization()) if BATCH_NORM else None\n",
        "model.add(Activation('relu'))\n",
        "\n",
        "model.add(Conv2D(512, (3, 3), padding='same', name='block4_conv3'))\n",
        "model.add(BatchNormalization()) if BATCH_NORM else None\n",
        "model.add(Activation('relu'))\n",
        "\n",
        "model.add(Conv2D(512, (3, 3), padding='same', name='block4_conv4'))\n",
        "model.add(BatchNormalization()) if BATCH_NORM else None\n",
        "model.add(Activation('relu'))\n",
        "model.add(MaxPooling2D((2, 2), strides=(2, 2), name='block4_pool'))\n",
        "\n",
        "model.add(Conv2D(512, (3, 3), padding='same', name='block5_conv1'))\n",
        "model.add(BatchNormalization()) if BATCH_NORM else None\n",
        "model.add(Activation('relu'))\n",
        "\n",
        "model.add(Conv2D(512, (3, 3), padding='same', name='block5_conv2'))\n",
        "model.add(BatchNormalization()) if BATCH_NORM else None\n",
        "model.add(Activation('relu'))\n",
        "\n",
        "model.add(Conv2D(512, (3, 3), padding='same', name='block5_conv3'))\n",
        "model.add(BatchNormalization()) if BATCH_NORM else None\n",
        "model.add(Activation('relu'))\n",
        "\n",
        "model.add(Conv2D(512, (3, 3), padding='same', name='block5_conv4'))\n",
        "model.add(BatchNormalization()) if BATCH_NORM else None\n",
        "model.add(Activation('relu'))\n",
        "\n",
        "model.add(Flatten())\n",
        "\n",
        "model.add(Dense(4096))\n",
        "model.add(BatchNormalization()) if BATCH_NORM else None\n",
        "model.add(Activation('relu'))\n",
        "model.add(Dropout(0.5))\n",
        "\n",
        "model.add(Dense(4096, name='fc2'))\n",
        "model.add(BatchNormalization()) if BATCH_NORM else None\n",
        "model.add(Activation('relu'))\n",
        "model.add(Dropout(0.5))\n",
        "\n",
        "model.add(Dense(num_classes))\n",
        "model.add(BatchNormalization()) if BATCH_NORM else None\n",
        "model.add(Activation('softmax'))\n"
      ],
      "execution_count": 0,
      "outputs": []
    },
    {
      "cell_type": "code",
      "metadata": {
        "id": "gLnvseoNmguA",
        "colab_type": "code",
        "colab": {
          "base_uri": "https://localhost:8080/",
          "height": 1000
        },
        "outputId": "887798dd-5847-4499-82f1-6b0bb1fb06fc"
      },
      "source": [
        "model.summary()"
      ],
      "execution_count": 42,
      "outputs": [
        {
          "output_type": "stream",
          "text": [
            "Model: \"sequential_1\"\n",
            "_________________________________________________________________\n",
            "Layer (type)                 Output Shape              Param #   \n",
            "=================================================================\n",
            "block1_conv1 (Conv2D)        (None, 32, 32, 64)        1792      \n",
            "_________________________________________________________________\n",
            "activation_1 (Activation)    (None, 32, 32, 64)        0         \n",
            "_________________________________________________________________\n",
            "block1_conv2 (Conv2D)        (None, 32, 32, 64)        36928     \n",
            "_________________________________________________________________\n",
            "activation_2 (Activation)    (None, 32, 32, 64)        0         \n",
            "_________________________________________________________________\n",
            "block1_pool (MaxPooling2D)   (None, 16, 16, 64)        0         \n",
            "_________________________________________________________________\n",
            "block2_conv1 (Conv2D)        (None, 16, 16, 128)       73856     \n",
            "_________________________________________________________________\n",
            "activation_3 (Activation)    (None, 16, 16, 128)       0         \n",
            "_________________________________________________________________\n",
            "block2_conv2 (Conv2D)        (None, 16, 16, 128)       147584    \n",
            "_________________________________________________________________\n",
            "activation_4 (Activation)    (None, 16, 16, 128)       0         \n",
            "_________________________________________________________________\n",
            "block2_pool (MaxPooling2D)   (None, 8, 8, 128)         0         \n",
            "_________________________________________________________________\n",
            "block3_conv1 (Conv2D)        (None, 8, 8, 256)         295168    \n",
            "_________________________________________________________________\n",
            "activation_5 (Activation)    (None, 8, 8, 256)         0         \n",
            "_________________________________________________________________\n",
            "block3_conv2 (Conv2D)        (None, 8, 8, 256)         590080    \n",
            "_________________________________________________________________\n",
            "activation_6 (Activation)    (None, 8, 8, 256)         0         \n",
            "_________________________________________________________________\n",
            "block3_conv3 (Conv2D)        (None, 8, 8, 256)         590080    \n",
            "_________________________________________________________________\n",
            "activation_7 (Activation)    (None, 8, 8, 256)         0         \n",
            "_________________________________________________________________\n",
            "block3_conv4 (Conv2D)        (None, 8, 8, 256)         590080    \n",
            "_________________________________________________________________\n",
            "activation_8 (Activation)    (None, 8, 8, 256)         0         \n",
            "_________________________________________________________________\n",
            "block3_pool (MaxPooling2D)   (None, 4, 4, 256)         0         \n",
            "_________________________________________________________________\n",
            "block4_conv1 (Conv2D)        (None, 4, 4, 512)         1180160   \n",
            "_________________________________________________________________\n",
            "activation_9 (Activation)    (None, 4, 4, 512)         0         \n",
            "_________________________________________________________________\n",
            "block4_conv2 (Conv2D)        (None, 4, 4, 512)         2359808   \n",
            "_________________________________________________________________\n",
            "activation_10 (Activation)   (None, 4, 4, 512)         0         \n",
            "_________________________________________________________________\n",
            "block4_conv3 (Conv2D)        (None, 4, 4, 512)         2359808   \n",
            "_________________________________________________________________\n",
            "activation_11 (Activation)   (None, 4, 4, 512)         0         \n",
            "_________________________________________________________________\n",
            "block4_conv4 (Conv2D)        (None, 4, 4, 512)         2359808   \n",
            "_________________________________________________________________\n",
            "activation_12 (Activation)   (None, 4, 4, 512)         0         \n",
            "_________________________________________________________________\n",
            "block4_pool (MaxPooling2D)   (None, 2, 2, 512)         0         \n",
            "_________________________________________________________________\n",
            "block5_conv1 (Conv2D)        (None, 2, 2, 512)         2359808   \n",
            "_________________________________________________________________\n",
            "activation_13 (Activation)   (None, 2, 2, 512)         0         \n",
            "_________________________________________________________________\n",
            "block5_conv2 (Conv2D)        (None, 2, 2, 512)         2359808   \n",
            "_________________________________________________________________\n",
            "activation_14 (Activation)   (None, 2, 2, 512)         0         \n",
            "_________________________________________________________________\n",
            "block5_conv3 (Conv2D)        (None, 2, 2, 512)         2359808   \n",
            "_________________________________________________________________\n",
            "activation_15 (Activation)   (None, 2, 2, 512)         0         \n",
            "_________________________________________________________________\n",
            "block5_conv4 (Conv2D)        (None, 2, 2, 512)         2359808   \n",
            "_________________________________________________________________\n",
            "activation_16 (Activation)   (None, 2, 2, 512)         0         \n",
            "_________________________________________________________________\n",
            "flatten_1 (Flatten)          (None, 2048)              0         \n",
            "_________________________________________________________________\n",
            "dense_1 (Dense)              (None, 4096)              8392704   \n",
            "_________________________________________________________________\n",
            "activation_17 (Activation)   (None, 4096)              0         \n",
            "_________________________________________________________________\n",
            "dropout_1 (Dropout)          (None, 4096)              0         \n",
            "_________________________________________________________________\n",
            "fc2 (Dense)                  (None, 4096)              16781312  \n",
            "_________________________________________________________________\n",
            "activation_18 (Activation)   (None, 4096)              0         \n",
            "_________________________________________________________________\n",
            "dropout_2 (Dropout)          (None, 4096)              0         \n",
            "_________________________________________________________________\n",
            "dense_2 (Dense)              (None, 10)                40970     \n",
            "_________________________________________________________________\n",
            "activation_19 (Activation)   (None, 10)                0         \n",
            "=================================================================\n",
            "Total params: 45,239,370\n",
            "Trainable params: 45,239,370\n",
            "Non-trainable params: 0\n",
            "_________________________________________________________________\n"
          ],
          "name": "stdout"
        }
      ]
    },
    {
      "cell_type": "markdown",
      "metadata": {
        "id": "mVYgILAYn_Ra",
        "colab_type": "text"
      },
      "source": [
        "## **Compile Model**"
      ]
    },
    {
      "cell_type": "code",
      "metadata": {
        "id": "1VJVMHY7nIxZ",
        "colab_type": "code",
        "colab": {}
      },
      "source": [
        "model.compile(loss=\"categorical_crossentropy\",  # Because we have multiClasses and get the label Y in one hot\n",
        "              optimizer=\"sgd\", # Stochastic gradient descent\n",
        "              metrics=[\"accuracy\"])"
      ],
      "execution_count": 0,
      "outputs": []
    },
    {
      "cell_type": "markdown",
      "metadata": {
        "id": "NuVeITYypkTR",
        "colab_type": "text"
      },
      "source": [
        "## **Fit Model**"
      ]
    },
    {
      "cell_type": "code",
      "metadata": {
        "id": "xaJ1JTczpkmD",
        "colab_type": "code",
        "colab": {
          "base_uri": "https://localhost:8080/",
          "height": 874
        },
        "outputId": "e6bce438-e003-430a-d4e1-c50d3fb6ff23"
      },
      "source": [
        "model_history= model.fit(x_train, y_train, batch_size=64, epochs=25, validation_data=(x_test,y_test))\n"
      ],
      "execution_count": 45,
      "outputs": [
        {
          "output_type": "stream",
          "text": [
            "Train on 50000 samples, validate on 10000 samples\n",
            "Epoch 1/25\n",
            "50000/50000 [==============================] - 46s 921us/step - loss: 2.3027 - accuracy: 0.0985 - val_loss: 2.3026 - val_accuracy: 0.1000\n",
            "Epoch 2/25\n",
            "50000/50000 [==============================] - 45s 908us/step - loss: 2.3027 - accuracy: 0.0983 - val_loss: 2.3026 - val_accuracy: 0.1000\n",
            "Epoch 3/25\n",
            "50000/50000 [==============================] - 46s 912us/step - loss: 2.3027 - accuracy: 0.0998 - val_loss: 2.3026 - val_accuracy: 0.1000\n",
            "Epoch 4/25\n",
            "50000/50000 [==============================] - 46s 913us/step - loss: 2.3027 - accuracy: 0.0991 - val_loss: 2.3026 - val_accuracy: 0.1000\n",
            "Epoch 5/25\n",
            "50000/50000 [==============================] - 46s 912us/step - loss: 2.3027 - accuracy: 0.0978 - val_loss: 2.3026 - val_accuracy: 0.1000\n",
            "Epoch 6/25\n",
            "50000/50000 [==============================] - 46s 912us/step - loss: 2.3027 - accuracy: 0.0975 - val_loss: 2.3026 - val_accuracy: 0.1000\n",
            "Epoch 7/25\n",
            "50000/50000 [==============================] - 46s 914us/step - loss: 2.3027 - accuracy: 0.1006 - val_loss: 2.3025 - val_accuracy: 0.1000\n",
            "Epoch 8/25\n",
            "50000/50000 [==============================] - 46s 911us/step - loss: 2.3026 - accuracy: 0.0986 - val_loss: 2.3025 - val_accuracy: 0.1437\n",
            "Epoch 9/25\n",
            "50000/50000 [==============================] - 46s 911us/step - loss: 2.3026 - accuracy: 0.1001 - val_loss: 2.3025 - val_accuracy: 0.1000\n",
            "Epoch 10/25\n",
            "50000/50000 [==============================] - 46s 911us/step - loss: 2.3026 - accuracy: 0.1003 - val_loss: 2.3025 - val_accuracy: 0.1000\n",
            "Epoch 11/25\n",
            "50000/50000 [==============================] - 45s 909us/step - loss: 2.3026 - accuracy: 0.1008 - val_loss: 2.3024 - val_accuracy: 0.1000\n",
            "Epoch 12/25\n",
            "50000/50000 [==============================] - 46s 910us/step - loss: 2.3025 - accuracy: 0.1005 - val_loss: 2.3023 - val_accuracy: 0.1000\n",
            "Epoch 13/25\n",
            "50000/50000 [==============================] - 46s 912us/step - loss: 2.3024 - accuracy: 0.1038 - val_loss: 2.3022 - val_accuracy: 0.1000\n",
            "Epoch 14/25\n",
            "50000/50000 [==============================] - 46s 912us/step - loss: 2.3022 - accuracy: 0.1105 - val_loss: 2.3018 - val_accuracy: 0.1240\n",
            "Epoch 15/25\n",
            "50000/50000 [==============================] - 46s 912us/step - loss: 2.3015 - accuracy: 0.1181 - val_loss: 2.3006 - val_accuracy: 0.1496\n",
            "Epoch 16/25\n",
            "50000/50000 [==============================] - 46s 912us/step - loss: 2.2989 - accuracy: 0.1450 - val_loss: 2.2945 - val_accuracy: 0.1787\n",
            "Epoch 17/25\n",
            "50000/50000 [==============================] - 46s 917us/step - loss: 2.2784 - accuracy: 0.1769 - val_loss: 2.2276 - val_accuracy: 0.1827\n",
            "Epoch 18/25\n",
            "50000/50000 [==============================] - 46s 916us/step - loss: 2.1415 - accuracy: 0.1795 - val_loss: 2.1239 - val_accuracy: 0.1726\n",
            "Epoch 19/25\n",
            "50000/50000 [==============================] - 46s 915us/step - loss: 2.0405 - accuracy: 0.1913 - val_loss: 2.4039 - val_accuracy: 0.1201\n",
            "Epoch 20/25\n",
            "50000/50000 [==============================] - 46s 917us/step - loss: 1.9637 - accuracy: 0.2052 - val_loss: 1.9583 - val_accuracy: 0.2153\n",
            "Epoch 21/25\n",
            "50000/50000 [==============================] - 46s 914us/step - loss: 1.9091 - accuracy: 0.2290 - val_loss: 2.3774 - val_accuracy: 0.1545\n",
            "Epoch 22/25\n",
            "50000/50000 [==============================] - 46s 915us/step - loss: 1.8713 - accuracy: 0.2520 - val_loss: 2.1958 - val_accuracy: 0.2129\n",
            "Epoch 23/25\n",
            "50000/50000 [==============================] - 46s 914us/step - loss: 1.8393 - accuracy: 0.2731 - val_loss: 1.8085 - val_accuracy: 0.2866\n",
            "Epoch 24/25\n",
            "50000/50000 [==============================] - 46s 917us/step - loss: 1.7860 - accuracy: 0.3024 - val_loss: 1.7761 - val_accuracy: 0.3063\n",
            "Epoch 25/25\n",
            "50000/50000 [==============================] - 46s 917us/step - loss: 1.7340 - accuracy: 0.3167 - val_loss: 1.7288 - val_accuracy: 0.3124\n"
          ],
          "name": "stdout"
        }
      ]
    },
    {
      "cell_type": "markdown",
      "metadata": {
        "id": "83LeB7_E0WVP",
        "colab_type": "text"
      },
      "source": [
        "## **Plot Results**"
      ]
    },
    {
      "cell_type": "code",
      "metadata": {
        "id": "MTjFKirg0WBg",
        "colab_type": "code",
        "colab": {
          "base_uri": "https://localhost:8080/",
          "height": 324
        },
        "outputId": "453370c4-0da9-4fcd-d24e-7c4795ac8be6"
      },
      "source": [
        "pd.DataFrame(model_history.history).plot(figsize=(8, 5))\n",
        "plt.grid(True)\n",
        "plt.gca().set_ylim(0, 1)\n",
        "plt.show()"
      ],
      "execution_count": 46,
      "outputs": [
        {
          "output_type": "display_data",
          "data": {
            "image/png": "[encoded data removed]",
            "text/plain": [
              "<Figure size 576x360 with 1 Axes>"
            ]
          },
          "metadata": {
            "tags": [],
            "needs_background": "light"
          }
        }
      ]
    }
  ]
}