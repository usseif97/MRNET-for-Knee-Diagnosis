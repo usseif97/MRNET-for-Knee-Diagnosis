{
  "nbformat": 4,
  "nbformat_minor": 0,
  "metadata": {
    "colab": {
      "name": "VGG.ipynb",
      "provenance": [],
      "collapsed_sections": [],
      "authorship_tag": "ABX9TyOFMe1mLJEg0WASZCKp7mzU",
      "include_colab_link": true
    },
    "kernelspec": {
      "name": "python3",
      "display_name": "Python 3"
    },
    "accelerator": "GPU"
  },
  "cells": [
    {
      "cell_type": "markdown",
      "metadata": {
        "id": "view-in-github",
        "colab_type": "text"
      },
      "source": [
        "<a href=\"https://colab.research.google.com/github/usseif97/MRNET-for-Knee-Diagnosis/blob/master/VGG.ipynb\" target=\"_parent\"><img src=\"https://colab.research.google.com/assets/colab-badge.svg\" alt=\"Open In Colab\"/></a>"
      ]
    },
    {
      "cell_type": "markdown",
      "metadata": {
        "id": "L6OjQU-bNEDW",
        "colab_type": "text"
      },
      "source": [
        "### **Library Imports**"
      ]
    },
    {
      "cell_type": "code",
      "metadata": {
        "id": "vX_ElcnPKkC7",
        "colab_type": "code",
        "colab": {}
      },
      "source": [
        "import tensorflow as tf\n",
        "from tensorflow import keras\n",
        "import numpy as np\n",
        "import pandas as pd\n",
        "%matplotlib inline\n",
        "import matplotlib as npl\n",
        "import matplotlib.pyplot as plt\n",
        "from tensorflow.keras import layers\n",
        "from tensorflow.keras import models\n",
        "from keras.utils import np_utils\n"
      ],
      "execution_count": 0,
      "outputs": []
    },
    {
      "cell_type": "markdown",
      "metadata": {
        "id": "Y4TJ4twYNhXr",
        "colab_type": "text"
      },
      "source": [
        "### **Import DataSet**"
      ]
    },
    {
      "cell_type": "code",
      "metadata": {
        "id": "QKAH8tfcLjFc",
        "colab_type": "code",
        "colab": {
          "base_uri": "https://localhost:8080/",
          "height": 34
        },
        "outputId": "3e13dfc3-ebfa-454d-ba6b-1bbff3e21685"
      },
      "source": [
        "from keras.datasets import cifar10\n"
      ],
      "execution_count": 4,
      "outputs": [
        {
          "output_type": "stream",
          "text": [
            "Using TensorFlow backend.\n"
          ],
          "name": "stderr"
        }
      ]
    },
    {
      "cell_type": "markdown",
      "metadata": {
        "id": "D8oYxNGZNxu1",
        "colab_type": "text"
      },
      "source": [
        "## **Get DataSet**"
      ]
    },
    {
      "cell_type": "code",
      "metadata": {
        "id": "n1OpN8awNpFf",
        "colab_type": "code",
        "colab": {
          "base_uri": "https://localhost:8080/",
          "height": 101
        },
        "outputId": "91e7e509-e3fa-4ebf-a7c8-3daa22f1e1ec"
      },
      "source": [
        "(x_train, y_train), (x_test, y_test) = cifar10.load_data() # x_train - training data(images), y_train - labels(digits)\n",
        "print('x_train shape:', x_train.shape)\n",
        "print(x_train.shape[0], 'train samples')\n",
        "print(x_test.shape[0], 'test samples')"
      ],
      "execution_count": 5,
      "outputs": [
        {
          "output_type": "stream",
          "text": [
            "Downloading data from https://www.cs.toronto.edu/~kriz/cifar-10-python.tar.gz\n",
            "170500096/170498071 [==============================] - 14s 0us/step\n",
            "x_train shape: (50000, 32, 32, 3)\n",
            "50000 train samples\n",
            "10000 test samples\n"
          ],
          "name": "stdout"
        }
      ]
    },
    {
      "cell_type": "markdown",
      "metadata": {
        "id": "RcivVL9qS8O3",
        "colab_type": "text"
      },
      "source": [
        "\n",
        "##  Define Variables"
      ]
    },
    {
      "cell_type": "code",
      "metadata": {
        "id": "2c7FvOOqS51i",
        "colab_type": "code",
        "colab": {}
      },
      "source": [
        "num_classes = 10"
      ],
      "execution_count": 0,
      "outputs": []
    },
    {
      "cell_type": "markdown",
      "metadata": {
        "id": "EyMIUp3OOXBw",
        "colab_type": "text"
      },
      "source": [
        "## **Preprocessing and split Data into test and validation**"
      ]
    },
    {
      "cell_type": "code",
      "metadata": {
        "id": "4R1_AA1FOWrG",
        "colab_type": "code",
        "colab": {}
      },
      "source": [
        "\n",
        "y_train = np_utils.to_categorical(y_train, 10)\n",
        "y_test = np_utils.to_categorical(y_test, 10)\n",
        "x_train = x_train.astype('float32')\n",
        "x_test = x_test.astype('float32')\n",
        "x_train  /= 255\n",
        "x_test /= 255"
      ],
      "execution_count": 0,
      "outputs": []
    },
    {
      "cell_type": "markdown",
      "metadata": {
        "id": "q20oJf4PO3lA",
        "colab_type": "text"
      },
      "source": [
        "## **Define Model**"
      ]
    },
    {
      "cell_type": "code",
      "metadata": {
        "id": "eTj0FqpoO3WD",
        "colab_type": "code",
        "colab": {}
      },
      "source": [
        "model = models.Sequential()\n",
        "\n",
        "model.add(layers.Conv2D(64, (3,3), activation='relu', padding='same', input_shape=x_train.shape[1:]))\n",
        "\n",
        "model.add(layers.Conv2D(64, (3,3), activation='relu', padding='same'))\n",
        "\n",
        "model.add(layers.MaxPooling2D((2,2), strides=(2, 2)))\n",
        "\n",
        "model.add(layers.Conv2D(128, (3,3), activation='relu', padding='same'))\n",
        "\n",
        "model.add(layers.Conv2D(128, (3,3), activation='relu', padding='same'))\n",
        "\n",
        "model.add(layers.MaxPooling2D((2,2), strides=(2, 2)))\n",
        "\n",
        "model.add(layers.Conv2D(256, (3,3), activation='relu', padding='same'))\n",
        "\n",
        "model.add(layers.Conv2D(256, (3,3), activation='relu', padding='same'))\n",
        "\n",
        "model.add(layers.Conv2D(256, (3,3), activation='relu', padding='same'))\n",
        "\n",
        "model.add(layers.MaxPooling2D((2,2), strides=(2, 2)))\n",
        "\n",
        "model.add(layers.Conv2D(512, (3,3), activation='relu', padding='same'))\n",
        "\n",
        "model.add(layers.Conv2D(512, (3,3), activation='relu', padding='same'))\n",
        "\n",
        "model.add(layers.Conv2D(512, (3,3), activation='relu', padding='same'))\n",
        "\n",
        "model.add(layers.MaxPooling2D((2,2), strides=(2, 2)))\n",
        "\n",
        "model.add(layers.Conv2D(512, (3,3), activation='relu', padding='same'))\n",
        "\n",
        "model.add(layers.Conv2D(512, (3,3), activation='relu', padding='same'))\n",
        "\n",
        "model.add(layers.Conv2D(512, (3,3), activation='relu', padding='same'))\n",
        "\n",
        "model.add(layers.MaxPooling2D((2,2), strides=(2, 2)))\n",
        "\n",
        "model.add(layers.Flatten())\n",
        "\n",
        "model.add(layers.Dense(4096, activation='relu'))\n",
        "\n",
        "model.add(layers.Dense(4096, activation='relu'))\n",
        "\n",
        "model.add(layers.Dense(num_classes, activation='softmax'))\n",
        "\n",
        "\n",
        "\n",
        "\n",
        "\n",
        "\n",
        "\n",
        "\n",
        "\n",
        "\n"
      ],
      "execution_count": 0,
      "outputs": []
    }
  ]
}