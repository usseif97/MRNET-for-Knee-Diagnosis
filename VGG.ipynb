{
  "nbformat": 4,
  "nbformat_minor": 0,
  "metadata": {
    "colab": {
      "name": "VGG.ipynb",
      "provenance": [],
      "collapsed_sections": [],
      "authorship_tag": "ABX9TyPWtp6+tbXmg8WpH/plDVEe",
      "include_colab_link": true
    },
    "kernelspec": {
      "name": "python3",
      "display_name": "Python 3"
    },
    "accelerator": "GPU"
  },
  "cells": [
    {
      "cell_type": "markdown",
      "metadata": {
        "id": "view-in-github",
        "colab_type": "text"
      },
      "source": [
        "<a href=\"https://colab.research.google.com/github/usseif97/MRNET-for-Knee-Diagnosis/blob/master/VGG.ipynb\" target=\"_parent\"><img src=\"https://colab.research.google.com/assets/colab-badge.svg\" alt=\"Open In Colab\"/></a>"
      ]
    },
    {
      "cell_type": "markdown",
      "metadata": {
        "id": "L6OjQU-bNEDW",
        "colab_type": "text"
      },
      "source": [
        "\n",
        "\n",
        "```\n",
        "# This is formatted as code\n",
        "```\n",
        "\n",
        "### **Library Imports**"
      ]
    },
    {
      "cell_type": "code",
      "metadata": {
        "id": "vX_ElcnPKkC7",
        "colab_type": "code",
        "colab": {
          "base_uri": "https://localhost:8080/",
          "height": 34
        },
        "outputId": "8c11abbc-d489-400b-cd27-8fd48a36001d"
      },
      "source": [
        "import tensorflow as tf\n",
        "from tensorflow import keras\n",
        "import numpy as np\n",
        "import pandas as pd\n",
        "%matplotlib inline\n",
        "import matplotlib as npl\n",
        "import matplotlib.pyplot as plt\n",
        "from tensorflow.keras import layers\n",
        "from tensorflow.keras import models\n",
        "from tensorflow.keras import optimizers\n",
        "from keras.utils import np_utils\n",
        "\n",
        "\n"
      ],
      "execution_count": 1,
      "outputs": [
        {
          "output_type": "stream",
          "text": [
            "Using TensorFlow backend.\n"
          ],
          "name": "stderr"
        }
      ]
    },
    {
      "cell_type": "markdown",
      "metadata": {
        "id": "q20oJf4PO3lA",
        "colab_type": "text"
      },
      "source": [
        "## **Define Model**"
      ]
    },
    {
      "cell_type": "code",
      "metadata": {
        "id": "eTj0FqpoO3WD",
        "colab_type": "code",
        "colab": {}
      },
      "source": [
        "def VGG_model():\n",
        "\n",
        "  model = models.Sequential()\n",
        "  model.add(layers.Conv2D(64,(3,3),padding='same',activation='relu',input_shape = (256,256,3)))\n",
        "  model.add(layers.Conv2D(64,(3,3),padding='same',activation='relu'))\n",
        "  model.add(layers.MaxPooling2D((2,2),strides=(2,2)))\n",
        "\n",
        "  model.add(layers.Conv2D(128,(3,3),padding='same',activation='relu'))\n",
        "  model.add(layers.Conv2D(128,(3,3),padding='same',activation='relu'))\n",
        "  model.add(layers.MaxPooling2D((2,2),strides=(2,2)))\n",
        "\n",
        "  model.add(layers.Conv2D(256,(3,3),padding='same',activation='relu'))\n",
        "  model.add(layers.Conv2D(256,(3,3),padding='same',activation='relu'))\n",
        "  model.add(layers.Conv2D(256,(3,3),padding='same',activation='relu'))\n",
        "  model.add(layers.MaxPooling2D((2,2),strides=(2,2)))\n",
        "\n",
        "  model.add(layers.Conv2D(512,(3,3),padding='same',activation='relu'))\n",
        "  model.add(layers.Conv2D(512,(3,3),padding='same',activation='relu'))\n",
        "  model.add(layers.Conv2D(512,(3,3),padding='same',activation='relu'))\n",
        "  model.add(layers.MaxPooling2D((2,2),strides=(2,2)))\n",
        "\n",
        "  model.add(layers.Conv2D(512,(3,3),padding='same',activation='relu'))\n",
        "  model.add(layers.Conv2D(512,(3,3),padding='same',activation='relu'))\n",
        "  model.add(layers.Conv2D(512,(3,3),padding='same',activation='relu'))\n",
        "  model.add(layers.MaxPooling2D((2,2),strides=(2,2)))\n",
        "\n",
        "  model.add(layers.Flatten())\n",
        "\n",
        "  model.add(layers.Dense(units=4096 , activation= 'relu'))\n",
        "  model.add(layers.Dense(units=4096 , activation='relu'))\n",
        "  model.add(layers.Dense(units=3 , activation= 'softmax'))\n",
        "\n",
        "  return model\n"
      ],
      "execution_count": 0,
      "outputs": []
    },
    {
      "cell_type": "code",
      "metadata": {
        "id": "gLnvseoNmguA",
        "colab_type": "code",
        "outputId": "d42d2a68-e2a5-46bd-9f09-291393cecef0",
        "colab": {
          "base_uri": "https://localhost:8080/",
          "height": 890
        }
      },
      "source": [
        "VGG_model().summary()"
      ],
      "execution_count": 13,
      "outputs": [
        {
          "output_type": "stream",
          "text": [
            "Model: \"sequential_4\"\n",
            "_________________________________________________________________\n",
            "Layer (type)                 Output Shape              Param #   \n",
            "=================================================================\n",
            "conv2d_52 (Conv2D)           (None, 256, 256, 64)      1792      \n",
            "_________________________________________________________________\n",
            "conv2d_53 (Conv2D)           (None, 256, 256, 64)      36928     \n",
            "_________________________________________________________________\n",
            "max_pooling2d_20 (MaxPooling (None, 128, 128, 64)      0         \n",
            "_________________________________________________________________\n",
            "conv2d_54 (Conv2D)           (None, 128, 128, 128)     73856     \n",
            "_________________________________________________________________\n",
            "conv2d_55 (Conv2D)           (None, 128, 128, 128)     147584    \n",
            "_________________________________________________________________\n",
            "max_pooling2d_21 (MaxPooling (None, 64, 64, 128)       0         \n",
            "_________________________________________________________________\n",
            "conv2d_56 (Conv2D)           (None, 64, 64, 256)       295168    \n",
            "_________________________________________________________________\n",
            "conv2d_57 (Conv2D)           (None, 64, 64, 256)       590080    \n",
            "_________________________________________________________________\n",
            "conv2d_58 (Conv2D)           (None, 64, 64, 256)       590080    \n",
            "_________________________________________________________________\n",
            "max_pooling2d_22 (MaxPooling (None, 32, 32, 256)       0         \n",
            "_________________________________________________________________\n",
            "conv2d_59 (Conv2D)           (None, 32, 32, 512)       1180160   \n",
            "_________________________________________________________________\n",
            "conv2d_60 (Conv2D)           (None, 32, 32, 512)       2359808   \n",
            "_________________________________________________________________\n",
            "conv2d_61 (Conv2D)           (None, 32, 32, 512)       2359808   \n",
            "_________________________________________________________________\n",
            "max_pooling2d_23 (MaxPooling (None, 16, 16, 512)       0         \n",
            "_________________________________________________________________\n",
            "conv2d_62 (Conv2D)           (None, 16, 16, 512)       2359808   \n",
            "_________________________________________________________________\n",
            "conv2d_63 (Conv2D)           (None, 16, 16, 512)       2359808   \n",
            "_________________________________________________________________\n",
            "conv2d_64 (Conv2D)           (None, 16, 16, 512)       2359808   \n",
            "_________________________________________________________________\n",
            "max_pooling2d_24 (MaxPooling (None, 8, 8, 512)         0         \n",
            "_________________________________________________________________\n",
            "flatten_4 (Flatten)          (None, 32768)             0         \n",
            "_________________________________________________________________\n",
            "dense (Dense)                (None, 4096)              134221824 \n",
            "_________________________________________________________________\n",
            "dense_1 (Dense)              (None, 4096)              16781312  \n",
            "_________________________________________________________________\n",
            "dense_2 (Dense)              (None, 3)                 12291     \n",
            "=================================================================\n",
            "Total params: 165,730,115\n",
            "Trainable params: 165,730,115\n",
            "Non-trainable params: 0\n",
            "_________________________________________________________________\n"
          ],
          "name": "stdout"
        }
      ]
    },
    {
      "cell_type": "markdown",
      "metadata": {
        "id": "mVYgILAYn_Ra",
        "colab_type": "text"
      },
      "source": [
        "## **Compile Model**"
      ]
    },
    {
      "cell_type": "code",
      "metadata": {
        "id": "1VJVMHY7nIxZ",
        "colab_type": "code",
        "colab": {}
      },
      "source": [
        "VGG16_model().compile(loss=\"categorical_crossentropy\",  # Because we have multiClasses and get the label Y in one hot\n",
        "              optimizer=\"sgd\", # Stochastic gradient descent\n",
        "              metrics=[\"accuracy\"])"
      ],
      "execution_count": 0,
      "outputs": []
    }
  ]
}