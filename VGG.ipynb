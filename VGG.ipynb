{
  "nbformat": 4,
  "nbformat_minor": 0,
  "metadata": {
    "colab": {
      "name": "VGG.ipynb",
      "provenance": [],
      "collapsed_sections": [],
      "authorship_tag": "ABX9TyNB+Js/lt9iNDS+ajJbZ9Ka",
      "include_colab_link": true
    },
    "kernelspec": {
      "name": "python3",
      "display_name": "Python 3"
    },
    "accelerator": "GPU"
  },
  "cells": [
    {
      "cell_type": "markdown",
      "metadata": {
        "id": "view-in-github",
        "colab_type": "text"
      },
      "source": [
        "<a href=\"https://colab.research.google.com/github/usseif97/MRNET-for-Knee-Diagnosis/blob/master/VGG.ipynb\" target=\"_parent\"><img src=\"https://colab.research.google.com/assets/colab-badge.svg\" alt=\"Open In Colab\"/></a>"
      ]
    },
    {
      "cell_type": "markdown",
      "metadata": {
        "id": "L6OjQU-bNEDW",
        "colab_type": "text"
      },
      "source": [
        "### **Library Imports**"
      ]
    },
    {
      "cell_type": "code",
      "metadata": {
        "id": "vX_ElcnPKkC7",
        "colab_type": "code",
        "colab": {}
      },
      "source": [
        "import tensorflow as tf\n",
        "from tensorflow import keras\n",
        "import numpy as np\n",
        "import pandas as pd\n",
        "%matplotlib inline\n",
        "import matplotlib as npl\n",
        "import matplotlib.pyplot as plt\n",
        "from tensorflow.keras import layers\n",
        "from tensorflow.keras import models\n",
        "from tensorflow.keras import optimizers\n",
        "from keras.utils import np_utils\n",
        "from keras.layers.normalization import BatchNormalization\n",
        "\n"
      ],
      "execution_count": 0,
      "outputs": []
    },
    {
      "cell_type": "markdown",
      "metadata": {
        "id": "Y4TJ4twYNhXr",
        "colab_type": "text"
      },
      "source": [
        "### **Import DataSet**"
      ]
    },
    {
      "cell_type": "code",
      "metadata": {
        "id": "QKAH8tfcLjFc",
        "colab_type": "code",
        "colab": {}
      },
      "source": [
        "from keras.datasets import cifar10\n"
      ],
      "execution_count": 0,
      "outputs": []
    },
    {
      "cell_type": "markdown",
      "metadata": {
        "id": "D8oYxNGZNxu1",
        "colab_type": "text"
      },
      "source": [
        "## **Get DataSet**"
      ]
    },
    {
      "cell_type": "code",
      "metadata": {
        "id": "n1OpN8awNpFf",
        "colab_type": "code",
        "colab": {
          "base_uri": "https://localhost:8080/",
          "height": 101
        },
        "outputId": "7004f887-d884-4df1-cbde-c7943d377de5"
      },
      "source": [
        "(x_train, y_train), (x_test, y_test) = cifar10.load_data() # x_train - training data(images), y_train - labels(digits)\n",
        "print('x_train shape:', x_train.shape)\n",
        "print(x_train.shape[0], 'train samples')\n",
        "print(x_test.shape[0], 'test samples')"
      ],
      "execution_count": 4,
      "outputs": [
        {
          "output_type": "stream",
          "text": [
            "Downloading data from https://www.cs.toronto.edu/~kriz/cifar-10-python.tar.gz\n",
            "170500096/170498071 [==============================] - 13s 0us/step\n",
            "x_train shape: (50000, 32, 32, 3)\n",
            "50000 train samples\n",
            "10000 test samples\n"
          ],
          "name": "stdout"
        }
      ]
    },
    {
      "cell_type": "markdown",
      "metadata": {
        "id": "RcivVL9qS8O3",
        "colab_type": "text"
      },
      "source": [
        "\n",
        "##  Define Variables"
      ]
    },
    {
      "cell_type": "code",
      "metadata": {
        "id": "2c7FvOOqS51i",
        "colab_type": "code",
        "colab": {}
      },
      "source": [
        "num_classes = 10\n",
        "BATCH_NORM = False\n"
      ],
      "execution_count": 0,
      "outputs": []
    },
    {
      "cell_type": "markdown",
      "metadata": {
        "id": "EyMIUp3OOXBw",
        "colab_type": "text"
      },
      "source": [
        "## **Preprocessing and split Data into test and validation**"
      ]
    },
    {
      "cell_type": "code",
      "metadata": {
        "id": "4R1_AA1FOWrG",
        "colab_type": "code",
        "colab": {}
      },
      "source": [
        "\n",
        "y_train = np_utils.to_categorical(y_train, 10)\n",
        "y_test = np_utils.to_categorical(y_test, 10)\n",
        "x_train = x_train.astype('float32')\n",
        "x_test = x_test.astype('float32')\n",
        "x_train  /= 255.\n",
        "x_test /= 255."
      ],
      "execution_count": 0,
      "outputs": []
    },
    {
      "cell_type": "markdown",
      "metadata": {
        "id": "q20oJf4PO3lA",
        "colab_type": "text"
      },
      "source": [
        "## **Define Model**"
      ]
    },
    {
      "cell_type": "code",
      "metadata": {
        "id": "eTj0FqpoO3WD",
        "colab_type": "code",
        "colab": {}
      },
      "source": [
        "model = models.Sequential()\n",
        "\n",
        "model.add(layers.Conv2D(64, (3,3), activation='relu', padding='same', input_shape=(32, 32, 3)))\n",
        "\n",
        "model.add(layers.Conv2D(64, (3,3), activation='relu', padding='same'))\n",
        "\n",
        "model.add(layers.MaxPooling2D((2,2), strides=(2, 2)))\n",
        "\n",
        "model.add(layers.Conv2D(128, (3,3), activation='relu', padding='same'))\n",
        "\n",
        "model.add(layers.Conv2D(128, (3,3), activation='relu', padding='same'))\n",
        "\n",
        "model.add(layers.MaxPooling2D((2,2), strides=(2, 2)))\n",
        "\n",
        "model.add(layers.Conv2D(256, (3,3), activation='relu', padding='same'))\n",
        "\n",
        "model.add(layers.Conv2D(256, (3,3), activation='relu', padding='same'))\n",
        "\n",
        "model.add(layers.Conv2D(256, (3,3), activation='relu', padding='same'))\n",
        "\n",
        "model.add(layers.MaxPooling2D((2,2), strides=(2, 2)))\n",
        "\n",
        "model.add(layers.Conv2D(512, (3,3), activation='relu', padding='same'))\n",
        "\n",
        "model.add(layers.Conv2D(512, (3,3), activation='relu', padding='same'))\n",
        "\n",
        "model.add(layers.Conv2D(512, (3,3), activation='relu', padding='same'))\n",
        "\n",
        "model.add(layers.MaxPooling2D((2,2), strides=(2, 2)))\n",
        "\n",
        "model.add(layers.Conv2D(512, (3,3), activation='relu', padding='same'))\n",
        "\n",
        "model.add(layers.Conv2D(512, (3,3), activation='relu', padding='same'))\n",
        "\n",
        "model.add(layers.Conv2D(512, (3,3), activation='relu', padding='same'))\n",
        "\n",
        "model.add(layers.MaxPooling2D((2,2), strides=(2, 2)))\n",
        "\n",
        "model.add(layers.Flatten())\n",
        "\n",
        "model.add(layers.Dense(4096, activation='relu'))\n",
        "\n",
        "model.add(layers.Dense(4096, activation='relu'))\n",
        "\n",
        "model.add(layers.Dense(num_classes, activation='softmax'))\n"
      ],
      "execution_count": 0,
      "outputs": []
    },
    {
      "cell_type": "code",
      "metadata": {
        "id": "gLnvseoNmguA",
        "colab_type": "code",
        "colab": {
          "base_uri": "https://localhost:8080/",
          "height": 1000
        },
        "outputId": "56a6c0ae-1ac4-4856-a539-83b79c35f2c0"
      },
      "source": [
        "model.summary()"
      ],
      "execution_count": 29,
      "outputs": [
        {
          "output_type": "stream",
          "text": [
            "Model: \"sequential_3\"\n",
            "_________________________________________________________________\n",
            "Layer (type)                 Output Shape              Param #   \n",
            "=================================================================\n",
            "conv2d_39 (Conv2D)           (None, 32, 32, 64)        1792      \n",
            "_________________________________________________________________\n",
            "activation (Activation)      (None, 32, 32, 64)        0         \n",
            "_________________________________________________________________\n",
            "conv2d_40 (Conv2D)           (None, 32, 32, 64)        36928     \n",
            "_________________________________________________________________\n",
            "activation_1 (Activation)    (None, 32, 32, 64)        0         \n",
            "_________________________________________________________________\n",
            "max_pooling2d_15 (MaxPooling (None, 16, 16, 64)        0         \n",
            "_________________________________________________________________\n",
            "conv2d_41 (Conv2D)           (None, 16, 16, 128)       73856     \n",
            "_________________________________________________________________\n",
            "activation_2 (Activation)    (None, 16, 16, 128)       0         \n",
            "_________________________________________________________________\n",
            "conv2d_42 (Conv2D)           (None, 16, 16, 128)       147584    \n",
            "_________________________________________________________________\n",
            "activation_3 (Activation)    (None, 16, 16, 128)       0         \n",
            "_________________________________________________________________\n",
            "max_pooling2d_16 (MaxPooling (None, 8, 8, 128)         0         \n",
            "_________________________________________________________________\n",
            "conv2d_43 (Conv2D)           (None, 8, 8, 256)         295168    \n",
            "_________________________________________________________________\n",
            "activation_4 (Activation)    (None, 8, 8, 256)         0         \n",
            "_________________________________________________________________\n",
            "conv2d_44 (Conv2D)           (None, 8, 8, 256)         590080    \n",
            "_________________________________________________________________\n",
            "activation_5 (Activation)    (None, 8, 8, 256)         0         \n",
            "_________________________________________________________________\n",
            "conv2d_45 (Conv2D)           (None, 8, 8, 256)         590080    \n",
            "_________________________________________________________________\n",
            "activation_6 (Activation)    (None, 8, 8, 256)         0         \n",
            "_________________________________________________________________\n",
            "max_pooling2d_17 (MaxPooling (None, 4, 4, 256)         0         \n",
            "_________________________________________________________________\n",
            "conv2d_46 (Conv2D)           (None, 4, 4, 512)         1180160   \n",
            "_________________________________________________________________\n",
            "activation_7 (Activation)    (None, 4, 4, 512)         0         \n",
            "_________________________________________________________________\n",
            "conv2d_47 (Conv2D)           (None, 4, 4, 512)         2359808   \n",
            "_________________________________________________________________\n",
            "activation_8 (Activation)    (None, 4, 4, 512)         0         \n",
            "_________________________________________________________________\n",
            "conv2d_48 (Conv2D)           (None, 4, 4, 512)         2359808   \n",
            "_________________________________________________________________\n",
            "activation_9 (Activation)    (None, 4, 4, 512)         0         \n",
            "_________________________________________________________________\n",
            "max_pooling2d_18 (MaxPooling (None, 2, 2, 512)         0         \n",
            "_________________________________________________________________\n",
            "conv2d_49 (Conv2D)           (None, 2, 2, 512)         2359808   \n",
            "_________________________________________________________________\n",
            "activation_10 (Activation)   (None, 2, 2, 512)         0         \n",
            "_________________________________________________________________\n",
            "conv2d_50 (Conv2D)           (None, 2, 2, 512)         2359808   \n",
            "_________________________________________________________________\n",
            "activation_11 (Activation)   (None, 2, 2, 512)         0         \n",
            "_________________________________________________________________\n",
            "conv2d_51 (Conv2D)           (None, 2, 2, 512)         2359808   \n",
            "_________________________________________________________________\n",
            "activation_12 (Activation)   (None, 2, 2, 512)         0         \n",
            "_________________________________________________________________\n",
            "max_pooling2d_19 (MaxPooling (None, 1, 1, 512)         0         \n",
            "_________________________________________________________________\n",
            "flatten_3 (Flatten)          (None, 512)               0         \n",
            "_________________________________________________________________\n",
            "dense_9 (Dense)              (None, 4096)              2101248   \n",
            "_________________________________________________________________\n",
            "activation_13 (Activation)   (None, 4096)              0         \n",
            "_________________________________________________________________\n",
            "dense_10 (Dense)             (None, 4096)              16781312  \n",
            "_________________________________________________________________\n",
            "activation_14 (Activation)   (None, 4096)              0         \n",
            "_________________________________________________________________\n",
            "dense_11 (Dense)             (None, 10)                40970     \n",
            "_________________________________________________________________\n",
            "activation_15 (Activation)   (None, 10)                0         \n",
            "=================================================================\n",
            "Total params: 33,638,218\n",
            "Trainable params: 33,638,218\n",
            "Non-trainable params: 0\n",
            "_________________________________________________________________\n"
          ],
          "name": "stdout"
        }
      ]
    },
    {
      "cell_type": "markdown",
      "metadata": {
        "id": "mVYgILAYn_Ra",
        "colab_type": "text"
      },
      "source": [
        "## **Compile Model**"
      ]
    },
    {
      "cell_type": "code",
      "metadata": {
        "id": "1VJVMHY7nIxZ",
        "colab_type": "code",
        "colab": {}
      },
      "source": [
        "model.compile(loss=\"categorical_crossentropy\",  # Because we have multiClasses and get the label Y in one hot\n",
        "              optimizer=\"sgd\", # Stochastic gradient descent\n",
        "              metrics=[\"accuracy\"])"
      ],
      "execution_count": 0,
      "outputs": []
    },
    {
      "cell_type": "markdown",
      "metadata": {
        "id": "NuVeITYypkTR",
        "colab_type": "text"
      },
      "source": [
        "## **Fit Model**"
      ]
    },
    {
      "cell_type": "code",
      "metadata": {
        "id": "xaJ1JTczpkmD",
        "colab_type": "code",
        "colab": {
          "base_uri": "https://localhost:8080/",
          "height": 857
        },
        "outputId": "10071c11-5f16-400f-f736-b15f1dab5549"
      },
      "source": [
        "model_history= model.fit(x_train, y_train, batch_size=64, epochs=25, validation_data=(x_test,y_test))"
      ],
      "execution_count": 32,
      "outputs": [
        {
          "output_type": "stream",
          "text": [
            "Epoch 1/25\n",
            "782/782 [==============================] - 33s 42ms/step - loss: 2.3021 - accuracy: 0.1086 - val_loss: 2.3017 - val_accuracy: 0.1431\n",
            "Epoch 2/25\n",
            "782/782 [==============================] - 33s 42ms/step - loss: 2.3008 - accuracy: 0.1338 - val_loss: 2.2987 - val_accuracy: 0.1652\n",
            "Epoch 3/25\n",
            "782/782 [==============================] - 33s 42ms/step - loss: 2.2881 - accuracy: 0.1716 - val_loss: 2.2545 - val_accuracy: 0.1752\n",
            "Epoch 4/25\n",
            "782/782 [==============================] - 33s 42ms/step - loss: 2.1503 - accuracy: 0.1939 - val_loss: 2.0878 - val_accuracy: 0.2149\n",
            "Epoch 5/25\n",
            "782/782 [==============================] - 33s 42ms/step - loss: 2.0476 - accuracy: 0.2315 - val_loss: 1.9610 - val_accuracy: 0.2649\n",
            "Epoch 6/25\n",
            "782/782 [==============================] - 33s 42ms/step - loss: 1.9510 - accuracy: 0.2585 - val_loss: 1.9069 - val_accuracy: 0.2509\n",
            "Epoch 7/25\n",
            "782/782 [==============================] - 33s 42ms/step - loss: 1.8580 - accuracy: 0.2901 - val_loss: 2.2034 - val_accuracy: 0.2197\n",
            "Epoch 8/25\n",
            "782/782 [==============================] - 33s 42ms/step - loss: 1.7750 - accuracy: 0.3204 - val_loss: 1.7533 - val_accuracy: 0.3478\n",
            "Epoch 9/25\n",
            "782/782 [==============================] - 33s 42ms/step - loss: 1.6988 - accuracy: 0.3533 - val_loss: 1.6240 - val_accuracy: 0.3891\n",
            "Epoch 10/25\n",
            "782/782 [==============================] - 33s 42ms/step - loss: 1.6344 - accuracy: 0.3849 - val_loss: 1.9865 - val_accuracy: 0.2914\n",
            "Epoch 11/25\n",
            "782/782 [==============================] - 33s 42ms/step - loss: 1.5735 - accuracy: 0.4132 - val_loss: 1.7216 - val_accuracy: 0.3511\n",
            "Epoch 12/25\n",
            "782/782 [==============================] - 33s 42ms/step - loss: 1.4937 - accuracy: 0.4473 - val_loss: 1.5922 - val_accuracy: 0.4073\n",
            "Epoch 13/25\n",
            "782/782 [==============================] - 33s 42ms/step - loss: 1.4156 - accuracy: 0.4737 - val_loss: 1.5616 - val_accuracy: 0.4440\n",
            "Epoch 14/25\n",
            "782/782 [==============================] - 33s 42ms/step - loss: 1.3430 - accuracy: 0.5069 - val_loss: 1.3592 - val_accuracy: 0.5037\n",
            "Epoch 15/25\n",
            "782/782 [==============================] - 33s 42ms/step - loss: 1.2699 - accuracy: 0.5373 - val_loss: 1.3029 - val_accuracy: 0.5058\n",
            "Epoch 16/25\n",
            "782/782 [==============================] - 33s 42ms/step - loss: 1.1913 - accuracy: 0.5655 - val_loss: 1.3705 - val_accuracy: 0.5173\n",
            "Epoch 17/25\n",
            "782/782 [==============================] - 33s 42ms/step - loss: 1.1283 - accuracy: 0.5883 - val_loss: 1.2254 - val_accuracy: 0.5428\n",
            "Epoch 18/25\n",
            "782/782 [==============================] - 33s 42ms/step - loss: 1.0556 - accuracy: 0.6155 - val_loss: 1.1176 - val_accuracy: 0.5964\n",
            "Epoch 19/25\n",
            "782/782 [==============================] - 33s 42ms/step - loss: 1.0024 - accuracy: 0.6344 - val_loss: 1.2277 - val_accuracy: 0.5727\n",
            "Epoch 20/25\n",
            "782/782 [==============================] - 33s 42ms/step - loss: 0.9518 - accuracy: 0.6532 - val_loss: 1.3718 - val_accuracy: 0.5220\n",
            "Epoch 21/25\n",
            "782/782 [==============================] - 33s 42ms/step - loss: 0.8935 - accuracy: 0.6758 - val_loss: 1.0834 - val_accuracy: 0.6122\n",
            "Epoch 22/25\n",
            "782/782 [==============================] - 33s 42ms/step - loss: 0.8398 - accuracy: 0.6983 - val_loss: 1.0572 - val_accuracy: 0.6281\n",
            "Epoch 23/25\n",
            "782/782 [==============================] - 33s 42ms/step - loss: 0.7888 - accuracy: 0.7166 - val_loss: 1.8390 - val_accuracy: 0.4388\n",
            "Epoch 24/25\n",
            "782/782 [==============================] - 33s 42ms/step - loss: 0.7381 - accuracy: 0.7356 - val_loss: 0.8737 - val_accuracy: 0.7012\n",
            "Epoch 25/25\n",
            "782/782 [==============================] - 33s 42ms/step - loss: 0.6839 - accuracy: 0.7552 - val_loss: 1.0394 - val_accuracy: 0.6528\n"
          ],
          "name": "stdout"
        }
      ]
    },
    {
      "cell_type": "markdown",
      "metadata": {
        "id": "83LeB7_E0WVP",
        "colab_type": "text"
      },
      "source": [
        "## **Plot Results**"
      ]
    },
    {
      "cell_type": "code",
      "metadata": {
        "id": "MTjFKirg0WBg",
        "colab_type": "code",
        "colab": {
          "base_uri": "https://localhost:8080/",
          "height": 324
        },
        "outputId": "7fb93904-1fba-47db-dec7-f95389d26303"
      },
      "source": [
        "pd.DataFrame(model_history.history).plot(figsize=(8, 5))\n",
        "plt.grid(True)\n",
        "plt.gca().set_ylim(0, 1)\n",
        "plt.show()"
      ],
      "execution_count": 34,
      "outputs": [
        {
          "output_type": "display_data",
          "data": {
            "image/png": "[encoded data removed]",
            "text/plain": [
              "<Figure size 576x360 with 1 Axes>"
            ]
          },
          "metadata": {
            "tags": [],
            "needs_background": "light"
          }
        }
      ]
    }
  ]
}