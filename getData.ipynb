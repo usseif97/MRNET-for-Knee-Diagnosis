{
  "nbformat": 4,
  "nbformat_minor": 0,
  "metadata": {
    "colab": {
      "name": "getData.ipynb",
      "provenance": [],
      "collapsed_sections": [],
      "authorship_tag": "ABX9TyO9+ocxdEc6c+8xpUM94337",
      "include_colab_link": true
    },
    "kernelspec": {
      "name": "python3",
      "display_name": "Python 3"
    },
    "accelerator": "GPU"
  },
  "cells": [
    {
      "cell_type": "markdown",
      "metadata": {
        "id": "view-in-github",
        "colab_type": "text"
      },
      "source": [
        "<a href=\"https://colab.research.google.com/github/usseif97/MRNET-for-Knee-Diagnosis/blob/master/getData.ipynb\" target=\"_parent\"><img src=\"https://colab.research.google.com/assets/colab-badge.svg\" alt=\"Open In Colab\"/></a>"
      ]
    },
    {
      "cell_type": "code",
      "metadata": {
        "id": "bmGS5_jikNvu",
        "colab_type": "code",
        "outputId": "86f34bfb-ce11-4d1c-a57b-bf7892aa1f44",
        "colab": {
          "base_uri": "https://localhost:8080/",
          "height": 34
        }
      },
      "source": [
        "# importing the drive to get data files\n",
        "from google.colab import drive\n",
        "drive.mount('/content/drive')"
      ],
      "execution_count": 0,
      "outputs": [
        {
          "output_type": "stream",
          "text": [
            "Drive already mounted at /content/drive; to attempt to forcibly remount, call drive.mount(\"/content/drive\", force_remount=True).\n"
          ],
          "name": "stdout"
        }
      ]
    },
    {
      "cell_type": "code",
      "metadata": {
        "id": "NcN76jIwlXUG",
        "colab_type": "code",
        "outputId": "7c4d8a00-fb7b-441a-d5a5-7167e5718aff",
        "colab": {
          "base_uri": "https://localhost:8080/",
          "height": 50
        }
      },
      "source": [
        "cd 'drive/My Drive/DataSet'\n"
      ],
      "execution_count": 0,
      "outputs": [
        {
          "output_type": "stream",
          "text": [
            "[Errno 2] No such file or directory: 'drive/My Drive/DataSet'\n",
            "/content/drive/My Drive/DataSet\n"
          ],
          "name": "stdout"
        }
      ]
    },
    {
      "cell_type": "code",
      "metadata": {
        "id": "_jcg-yfRokEF",
        "colab_type": "code",
        "outputId": "5a08aa30-b4b5-4178-ee7a-69828bf333e5",
        "colab": {
          "base_uri": "https://localhost:8080/",
          "height": 202
        }
      },
      "source": [
        "!wget http://download.cs.stanford.edu/deep/MRNet-v1.0.zip"
      ],
      "execution_count": 0,
      "outputs": [
        {
          "output_type": "stream",
          "text": [
            "--2020-05-21 00:29:25--  http://download.cs.stanford.edu/deep/MRNet-v1.0.zip\n",
            "Resolving download.cs.stanford.edu (download.cs.stanford.edu)... 171.64.64.22\n",
            "Connecting to download.cs.stanford.edu (download.cs.stanford.edu)|171.64.64.22|:80... connected.\n",
            "HTTP request sent, awaiting response... 200 OK\n",
            "Length: 6087523606 (5.7G) [application/zip]\n",
            "Saving to: ‘MRNet-v1.0.zip’\n",
            "\n",
            "MRNet-v1.0.zip      100%[===================>]   5.67G  1.84MB/s    in 48m 7s  \n",
            "\n",
            "2020-05-21 01:17:32 (2.01 MB/s) - ‘MRNet-v1.0.zip’ saved [6087523606/6087523606]\n",
            "\n"
          ],
          "name": "stdout"
        }
      ]
    },
    {
      "cell_type": "code",
      "metadata": {
        "id": "8m5xKmWMzpwA",
        "colab_type": "code",
        "colab": {}
      },
      "source": [
        "!unzip '/content/drive/My Drive/DataSet/MRNet-v1.0.zip' -d '/content/drive/My Drive/DataSet/MRNET data set'"
      ],
      "execution_count": 0,
      "outputs": []
    },
    {
      "cell_type": "markdown",
      "metadata": {
        "id": "5nl5_EZU67uI",
        "colab_type": "text"
      },
      "source": [
        "## **Imports**"
      ]
    },
    {
      "cell_type": "code",
      "metadata": {
        "id": "9QYjrKmu67eT",
        "colab_type": "code",
        "colab": {}
      },
      "source": [
        "import os, sys\n",
        "import numpy as np\n"
      ],
      "execution_count": 0,
      "outputs": []
    },
    {
      "cell_type": "markdown",
      "metadata": {
        "id": "ConM1QlK21Q2",
        "colab_type": "text"
      },
      "source": [
        "## **Path**"
      ]
    },
    {
      "cell_type": "code",
      "metadata": {
        "id": "AQpBo7sG20L8",
        "colab_type": "code",
        "colab": {}
      },
      "source": [
        "path = '/content/drive/My Drive/DataSet/MRNET data set/MRNet-v1.0';\n",
        "\n",
        "\n"
      ],
      "execution_count": 0,
      "outputs": []
    },
    {
      "cell_type": "markdown",
      "metadata": {
        "id": "CobMOzc73An9",
        "colab_type": "text"
      },
      "source": [
        "## **Data Proccessing**"
      ]
    },
    {
      "cell_type": "code",
      "metadata": {
        "id": "Hc0TBOmu6qa7",
        "colab_type": "code",
        "colab": {}
      },
      "source": [
        "def input_process(path_input):\n",
        "  sliceNames = []\n",
        "  for filename in os.listdir(path_input):\n",
        "      if filename.endswith('.npy'):\n",
        "        sliceNames.append(filename)\n",
        "\n",
        "  sliceNames.sort()\n",
        "  #print(sliceNames)\n",
        "\n",
        "  slices = []\n",
        "  for name in sliceNames:\n",
        "    tempSlice = np.load(path_input + '/' + name)\n",
        "    tempSlice = np.stack([tempSlice]*3,axis = 3)\n",
        "    slices.append(tempSlice)\n",
        "    print(name)\n",
        "  return slices\n"
      ],
      "execution_count": 0,
      "outputs": []
    },
    {
      "cell_type": "code",
      "metadata": {
        "id": "uadc6DlZYCmB",
        "colab_type": "code",
        "colab": {}
      },
      "source": [
        "def output_process(path_output):\n",
        "  outputs = np.genfromtxt(path_output, delimiter= ',')[:,1].astype(int)\n",
        "  print(outputs)\n",
        "  return outputs"
      ],
      "execution_count": 0,
      "outputs": []
    },
    {
      "cell_type": "markdown",
      "metadata": {
        "id": "Wt4sJjgjaI0i",
        "colab_type": "text"
      },
      "source": [
        "## **Daclare Paths**"
      ]
    },
    {
      "cell_type": "code",
      "metadata": {
        "id": "J3P5LBpgaITI",
        "colab_type": "code",
        "outputId": "934ba869-5bb9-46cd-95e0-99b4d5bcba76",
        "colab": {
          "base_uri": "https://localhost:8080/",
          "height": 218
        }
      },
      "source": [
        "axial_train_path = path + '/train/axial';\n",
        "coronal_train_path = path + '/train/coronal';\n",
        "sagittal_train_path = path + '/train/sagittal';\n",
        "\n",
        "axial_valid_path = path + '/valid/axial';\n",
        "coronal_valid_path = path + '/valid/coronal';\n",
        "sagittal_valid_path = path + '/valid/sagittal';\n",
        "\n",
        "abnormal_train_path = path + '/train-abnormal.csv';\n",
        "acl_train_path = path + '/train-acl.csv';\n",
        "meniscus_train_path = path + '/train-meniscus.csv';\n",
        "\n",
        "abnormal_valid_path = path + '/valid-abnormal.csv';\n",
        "acl_valid_path = path + '/valid-acl.csv';\n",
        "meniscus_valid_path = path + '/valid-meniscus.csv';\n",
        "\n",
        "\n",
        "print(axial_train_path)\n",
        "print(coronal_train_path)\n",
        "print(sagittal_train_path)\n",
        "print(axial_valid_path)\n",
        "print(coronal_valid_path)\n",
        "print(sagittal_valid_path)\n",
        "\n",
        "print(abnormal_train_path)\n",
        "print(acl_train_path)\n",
        "print(meniscus_train_path)\n",
        "print(abnormal_valid_path)\n",
        "print(acl_valid_path)\n",
        "print(meniscus_valid_path)"
      ],
      "execution_count": 0,
      "outputs": [
        {
          "output_type": "stream",
          "text": [
            "/content/drive/My Drive/DataSet/MRNET data set/MRNet-v1.0/train/axial\n",
            "/content/drive/My Drive/DataSet/MRNET data set/MRNet-v1.0/train/coronal\n",
            "/content/drive/My Drive/DataSet/MRNET data set/MRNet-v1.0/train/sagittal\n",
            "/content/drive/My Drive/DataSet/MRNET data set/MRNet-v1.0/valid/axial\n",
            "/content/drive/My Drive/DataSet/MRNET data set/MRNet-v1.0/valid/coronal\n",
            "/content/drive/My Drive/DataSet/MRNET data set/MRNet-v1.0/valid/sagittal\n",
            "/content/drive/My Drive/DataSet/MRNET data set/MRNet-v1.0/train-abnormal.csv\n",
            "/content/drive/My Drive/DataSet/MRNET data set/MRNet-v1.0/train-acl.csv\n",
            "/content/drive/My Drive/DataSet/MRNET data set/MRNet-v1.0/train-meniscus.csv\n",
            "/content/drive/My Drive/DataSet/MRNET data set/MRNet-v1.0/valid-abnormal.csv\n",
            "/content/drive/My Drive/DataSet/MRNET data set/MRNet-v1.0/valid-acl.csv\n",
            "/content/drive/My Drive/DataSet/MRNET data set/MRNet-v1.0/valid-meniscus.csv\n"
          ],
          "name": "stdout"
        }
      ]
    },
    {
      "cell_type": "markdown",
      "metadata": {
        "id": "zNAEkv9uFfsg",
        "colab_type": "text"
      },
      "source": [
        "## **Trian Data**"
      ]
    },
    {
      "cell_type": "code",
      "metadata": {
        "id": "HwwjepSJFdfz",
        "colab_type": "code",
        "colab": {}
      },
      "source": [
        "# input\n",
        "axial_train_data = input_process(axial_train_path)\n",
        "\n"
      ],
      "execution_count": 0,
      "outputs": []
    },
    {
      "cell_type": "code",
      "metadata": {
        "id": "E906-qj5Fzig",
        "colab_type": "code",
        "colab": {}
      },
      "source": [
        "# input\n",
        "coronal_train_data = input_process(coronal_train_path)\n"
      ],
      "execution_count": 0,
      "outputs": []
    },
    {
      "cell_type": "code",
      "metadata": {
        "id": "vzKsvjwrF1_A",
        "colab_type": "code",
        "colab": {}
      },
      "source": [
        "# input\n",
        "sagittal_train_data = input_process(sagittal_train_path)"
      ],
      "execution_count": 0,
      "outputs": []
    },
    {
      "cell_type": "code",
      "metadata": {
        "id": "oEdFnnzC4lQj",
        "colab_type": "code",
        "colab": {}
      },
      "source": [
        "# take from 10 to 15 min to load Data\n",
        "# inputs\n",
        "#axial_train_data = input_process(axial_train_path)\n",
        "#coronal_train_data = input_process(coronal_train_path)\n",
        "#sagittal_train_data = input_process(sagittal_train_path)\n",
        "\n",
        "axial_valid_data = input_process(axial_valid_path)\n",
        "coronal_valid_data = input_process(coronal_valid_path)\n",
        "sagittal_valid_data = input_process(sagittal_valid_path)\n",
        "\n",
        "# outputs\n",
        "abnormal_train_data = output_process(abnormal_train_path)\n",
        "acl_train_data = output_process(acl_train_path)\n",
        "meniscus_train_data = output_process(meniscus_train_path)\n",
        "\n",
        "abnormal_valid_data = output_process(abnormal_valid_path)\n",
        "acl_valid_data = output_process(acl_valid_path)\n",
        "meniscus_valid_data = output_process(meniscus_valid_path)\n",
        "\n"
      ],
      "execution_count": 0,
      "outputs": []
    }
  ]
}